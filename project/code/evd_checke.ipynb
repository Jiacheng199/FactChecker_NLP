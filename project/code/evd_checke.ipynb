{
 "cells": [
  {
   "attachments": {},
   "cell_type": "markdown",
   "metadata": {},
   "source": [
    "This folder is for me to check a specific evidence. Since the evidence is too large, check it in a separate file is better."
   ]
  },
  {
   "cell_type": "code",
   "execution_count": 19,
   "metadata": {},
   "outputs": [],
   "source": [
    "import pandas as pd\n",
    "evd = pd.read_json('../data/evidence.json',orient='index')\n",
    "train = pd.read_json('../data/train-claims.json',orient='index')"
   ]
  },
  {
   "cell_type": "code",
   "execution_count": 28,
   "metadata": {},
   "outputs": [
    {
     "name": "stdout",
     "output_type": "stream",
     "text": [
      "the cliam id is:  claim-1937\n"
     ]
    }
   ],
   "source": [
    "#get the evidences list in train set from given claim id\n",
    "def get_evidence_list(claim_id):\n",
    "    print(\"the cliam id is: \",claim_id)\n",
    "    print(\"row info: \",train.loc[claim_id])\n",
    "\n",
    "\n",
    "get_evidence_list('claim-1937')"
   ]
  },
  {
   "cell_type": "code",
   "execution_count": 30,
   "metadata": {},
   "outputs": [
    {
     "name": "stdout",
     "output_type": "stream",
     "text": [
      "Index(['claim_text', 'claim_label', 'evidences'], dtype='object')\n",
      "<bound method NDFrame.head of                                                    claim_text   \n",
      "claim-1937  Not only is there no scientific evidence that ...  \\\n",
      "claim-126   El Niño drove record highs in global temperatu...   \n",
      "claim-2510             In 1946, PDO switched to a cool phase.   \n",
      "claim-2021  Weather Channel co-founder John Coleman provid...   \n",
      "claim-2449  \"January 2008 capped a 12 month period of glob...   \n",
      "...                                                       ...   \n",
      "claim-1504  Climate scientists say that aspects of the cas...   \n",
      "claim-243   In its 5th assessment report in 2013, the IPCC...   \n",
      "claim-2302  Since the mid 1970s, global temperatures have ...   \n",
      "claim-502   But abnormal temperature spikes in February an...   \n",
      "claim-3093  Sending oscillating microwaves from an antenna...   \n",
      "\n",
      "                claim_label                                          evidences  \n",
      "claim-1937         DISPUTED  [evidence-442946, evidence-1194317, evidence-1...  \n",
      "claim-126           REFUTES                [evidence-338219, evidence-1127398]  \n",
      "claim-2510         SUPPORTS                 [evidence-530063, evidence-984887]  \n",
      "claim-2021         DISPUTED  [evidence-1177431, evidence-782448, evidence-5...  \n",
      "claim-2449  NOT_ENOUGH_INFO  [evidence-1010750, evidence-91661, evidence-72...  \n",
      "...                     ...                                                ...  \n",
      "claim-1504         SUPPORTS  [evidence-1055682, evidence-1047356, evidence-...  \n",
      "claim-243          SUPPORTS                                  [evidence-916755]  \n",
      "claim-2302  NOT_ENOUGH_INFO  [evidence-403673, evidence-889933, evidence-11...  \n",
      "claim-502   NOT_ENOUGH_INFO  [evidence-97375, evidence-562427, evidence-521...  \n",
      "claim-3093         SUPPORTS  [evidence-971105, evidence-457769, evidence-29...  \n",
      "\n",
      "[1228 rows x 3 columns]>\n"
     ]
    }
   ],
   "source": [
    "print(train.columns)\n",
    "print(train.head)"
   ]
  }
 ],
 "metadata": {
  "kernelspec": {
   "display_name": ".venv",
   "language": "python",
   "name": "python3"
  },
  "language_info": {
   "codemirror_mode": {
    "name": "ipython",
    "version": 3
   },
   "file_extension": ".py",
   "mimetype": "text/x-python",
   "name": "python",
   "nbconvert_exporter": "python",
   "pygments_lexer": "ipython3",
   "version": "3.8.10"
  },
  "orig_nbformat": 4
 },
 "nbformat": 4,
 "nbformat_minor": 2
}
