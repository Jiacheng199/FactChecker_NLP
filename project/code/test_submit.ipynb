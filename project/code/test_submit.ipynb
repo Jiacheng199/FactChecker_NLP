{
 "cells": [
  {
   "cell_type": "code",
   "execution_count": 1,
   "metadata": {},
   "outputs": [
    {
     "name": "stdout",
     "output_type": "stream",
     "text": [
      "evidence imported\n",
      "train imported\n"
     ]
    }
   ],
   "source": [
    "import pandas as pd\n",
    "\n",
    "evd = pd.read_json('../data/evidence.json',orient='index')\n",
    "print(\"evidence imported\")\n",
    "train = pd.read_json('../data/train-claims.json')\n",
    "print(\"train imported\")\n",
    "dev = pd.read_json('../data/dev-claims.json')\n",
    "print(\"dev imported\")\n",
    "test = pd.read_json('../data/test-claims-unlabelled.json')\n",
    "print(\"test imported\")\n"
   ]
  },
  {
   "cell_type": "code",
   "execution_count": 2,
   "metadata": {},
   "outputs": [
    {
     "name": "stdout",
     "output_type": "stream",
     "text": [
      "(1, 153)\n",
      "Index(['claim-2967', 'claim-979', 'claim-1609', 'claim-1020', 'claim-2599',\n",
      "       'claim-2110', 'claim-1135', 'claim-712', 'claim-1307', 'claim-148',\n",
      "       ...\n",
      "       'claim-2561', 'claim-2219', 'claim-1343', 'claim-1351', 'claim-2347',\n",
      "       'claim-293', 'claim-910', 'claim-2815', 'claim-1652', 'claim-1212'],\n",
      "      dtype='object', length=153)\n",
      "<bound method NDFrame.head of                                                      claim-752   \n",
      "claim_text   [South Australia] has the most expensive elect...  \\\n",
      "claim_label                                           SUPPORTS   \n",
      "evidences                    [evidence-67732, evidence-572512]   \n",
      "\n",
      "                                                     claim-375   \n",
      "claim_text   when 3 per cent of total annual global emissio...  \\\n",
      "claim_label                                    NOT_ENOUGH_INFO   \n",
      "evidences    [evidence-996421, evidence-1080858, evidence-2...   \n",
      "\n",
      "                                                    claim-1266   \n",
      "claim_text   This means that the world is now 1C warmer tha...  \\\n",
      "claim_label                                           SUPPORTS   \n",
      "evidences                   [evidence-889933, evidence-694262]   \n",
      "\n",
      "                                                     claim-871   \n",
      "claim_text   “As it happens, Zika may also be a good model ...  \\\n",
      "claim_label                                    NOT_ENOUGH_INFO   \n",
      "evidences    [evidence-422399, evidence-702226, evidence-28...   \n",
      "\n",
      "                                                    claim-2164   \n",
      "claim_text   Greenland has only lost a tiny fraction of its...  \\\n",
      "claim_label                                            REFUTES   \n",
      "evidences    [evidence-52981, evidence-264761, evidence-947...   \n",
      "\n",
      "                                                    claim-1607   \n",
      "claim_text                   CO2 limits won't cool the planet.  \\\n",
      "claim_label                                    NOT_ENOUGH_INFO   \n",
      "evidences    [evidence-913997, evidence-955328, evidence-40...   \n",
      "\n",
      "                                                     claim-761   \n",
      "claim_text   [Riebesell] is a world authority on the topic ...  \\\n",
      "claim_label                                    NOT_ENOUGH_INFO   \n",
      "evidences    [evidence-1129386, evidence-456747, evidence-6...   \n",
      "\n",
      "                                                    claim-1718   \n",
      "claim_text   The actual data show high northern latitudes a...  \\\n",
      "claim_label                                           SUPPORTS   \n",
      "evidences                  [evidence-857561, evidence-1150493]   \n",
      "\n",
      "                                                    claim-1273   \n",
      "claim_text   The rapid changes in the climate may have prof...  \\\n",
      "claim_label                                           SUPPORTS   \n",
      "evidences    [evidence-659559, evidence-181656, evidence-49...   \n",
      "\n",
      "                                                    claim-1786  ...   \n",
      "claim_text   CFCs contribute to global waerming at a small ...  ...  \\\n",
      "claim_label                                            REFUTES  ...   \n",
      "evidences    [evidence-845527, evidence-105411, evidence-32...  ...   \n",
      "\n",
      "                                                     claim-530   \n",
      "claim_text   South Australia is winning: it has the most un...  \\\n",
      "claim_label                                           SUPPORTS   \n",
      "evidences                                     [evidence-67732]   \n",
      "\n",
      "                                                    claim-2979   \n",
      "claim_text   Water vapor helps trap heat, and is a far the ...  \\\n",
      "claim_label                                           SUPPORTS   \n",
      "evidences                   [evidence-909112, evidence-706949]   \n",
      "\n",
      "                                                     claim-665   \n",
      "claim_text   many scientists were surprised when other rese...  \\\n",
      "claim_label                                    NOT_ENOUGH_INFO   \n",
      "evidences    [evidence-1105120, evidence-143437, evidence-1...   \n",
      "\n",
      "                                                     claim-199   \n",
      "claim_text   In the past, warming has never been a threat t...  \\\n",
      "claim_label                                            REFUTES   \n",
      "evidences                   [evidence-255653, evidence-817833]   \n",
      "\n",
      "                                                     claim-490   \n",
      "claim_text   IPCC report warning last week the world is “no...  \\\n",
      "claim_label                                           SUPPORTS   \n",
      "evidences    [evidence-225934, evidence-432573, evidence-10...   \n",
      "\n",
      "                                                    claim-2400   \n",
      "claim_text   'To suddenly label CO2 as a \"pollutant\" is a d...  \\\n",
      "claim_label                                            REFUTES   \n",
      "evidences    [evidence-409365, evidence-127519, evidence-85...   \n",
      "\n",
      "                                                     claim-204   \n",
      "claim_text   after a natural orbitally driven warming, atmo...  \\\n",
      "claim_label                                    NOT_ENOUGH_INFO   \n",
      "evidences    [evidence-368192, evidence-261690, evidence-20...   \n",
      "\n",
      "                                                    claim-1426   \n",
      "claim_text   Many of the world’s coral reefs are already ba...  \\\n",
      "claim_label                                    NOT_ENOUGH_INFO   \n",
      "evidences    [evidence-1124018, evidence-995813, evidence-1...   \n",
      "\n",
      "                                                     claim-698   \n",
      "claim_text   A recent study led by Lawrence Livermore Natio...  \\\n",
      "claim_label                                            REFUTES   \n",
      "evidences                                    [evidence-660755]   \n",
      "\n",
      "                                                    claim-1021  \n",
      "claim_text   The corals may save themselves, as many other ...  \n",
      "claim_label                                           SUPPORTS  \n",
      "evidences                  [evidence-242575, evidence-1175280]  \n",
      "\n",
      "[3 rows x 154 columns]>\n"
     ]
    }
   ],
   "source": [
    "\n",
    "print(test.shape)\n",
    "print(test.columns)\n",
    "print(dev.head)\n",
    "\n"
   ]
  },
  {
   "cell_type": "code",
   "execution_count": 3,
   "metadata": {},
   "outputs": [
    {
     "name": "stdout",
     "output_type": "stream",
     "text": [
      "True\n"
     ]
    }
   ],
   "source": [
    "#check if cuda is available\n",
    "import torch\n",
    "print(torch.cuda.is_available())\n"
   ]
  },
  {
   "cell_type": "code",
   "execution_count": 2,
   "metadata": {},
   "outputs": [
    {
     "ename": "NameError",
     "evalue": "name 'evd' is not defined",
     "output_type": "error",
     "traceback": [
      "\u001b[1;31m---------------------------------------------------------------------------\u001b[0m",
      "\u001b[1;31mNameError\u001b[0m                                 Traceback (most recent call last)",
      "Cell \u001b[1;32mIn[2], line 1\u001b[0m\n\u001b[1;32m----> 1\u001b[0m \u001b[39mprint\u001b[39m(evd[\u001b[39m0\u001b[39m][\u001b[39m0\u001b[39m:\u001b[39m10\u001b[39m])\n",
      "\u001b[1;31mNameError\u001b[0m: name 'evd' is not defined"
     ]
    }
   ],
   "source": [
    "print(evd[0][0:10])"
   ]
  }
 ],
 "metadata": {
  "kernelspec": {
   "display_name": "openai_venv",
   "language": "python",
   "name": "python3"
  },
  "language_info": {
   "codemirror_mode": {
    "name": "ipython",
    "version": 3
   },
   "file_extension": ".py",
   "mimetype": "text/x-python",
   "name": "python",
   "nbconvert_exporter": "python",
   "pygments_lexer": "ipython3",
   "version": "3.8.10"
  },
  "orig_nbformat": 4
 },
 "nbformat": 4,
 "nbformat_minor": 2
}
