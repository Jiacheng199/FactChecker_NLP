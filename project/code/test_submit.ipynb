{
 "cells": [
  {
   "attachments": {},
   "cell_type": "markdown",
   "metadata": {},
   "source": [
    "Load all the needed data(evdience, train, dev, test) from the data folder"
   ]
  },
  {
   "cell_type": "code",
   "execution_count": 12,
   "metadata": {},
   "outputs": [
    {
     "name": "stdout",
     "output_type": "stream",
     "text": [
      "evidence imported\n",
      "train imported\n",
      "dev imported\n",
      "test imported\n",
      "Index(['claim-1937', 'claim-126', 'claim-2510', 'claim-2021', 'claim-2449',\n",
      "       'claim-851', 'claim-2773', 'claim-949', 'claim-1019', 'claim-2834',\n",
      "       ...\n",
      "       'claim-2076', 'claim-2508', 'claim-2049', 'claim-1333', 'claim-1316',\n",
      "       'claim-1504', 'claim-243', 'claim-2302', 'claim-502', 'claim-3093'],\n",
      "      dtype='object', length=1228)\n",
      "Index(['claim-2967', 'claim-979', 'claim-1609', 'claim-1020', 'claim-2599',\n",
      "       'claim-2110', 'claim-1135', 'claim-712', 'claim-1307', 'claim-148',\n",
      "       ...\n",
      "       'claim-2561', 'claim-2219', 'claim-1343', 'claim-1351', 'claim-2347',\n",
      "       'claim-293', 'claim-910', 'claim-2815', 'claim-1652', 'claim-1212'],\n",
      "      dtype='object', length=153)\n",
      "RangeIndex(start=0, stop=1, step=1)\n"
     ]
    }
   ],
   "source": [
    "import pandas as pd\n",
    "import numpy as np\n",
    "evd = pd.read_json('../data/evidence.json',orient='index')\n",
    "print(\"evidence imported\")\n",
    "train = pd.read_json('../data/train-claims.json')\n",
    "print(\"train imported\") \n",
    "dev = pd.read_json('../data/dev-claims.json')\n",
    "print(\"dev imported\")\n",
    "test = pd.read_json('../data/test-claims-unlabelled.json')\n",
    "print(\"test imported\")\n",
    "\n",
    "print(train.columns)\n",
    "print(test.columns)\n",
    "print(evd.columns)"
   ]
  },
  {
   "cell_type": "code",
   "execution_count": 16,
   "metadata": {},
   "outputs": [
    {
     "name": "stdout",
     "output_type": "stream",
     "text": [
      "claim-1937    Not only is there no scientific evidence that ...\n",
      "claim-126     El Niño drove record highs in global temperatu...\n",
      "claim-2510               In 1946, PDO switched to a cool phase.\n",
      "claim-2021    Weather Channel co-founder John Coleman provid...\n",
      "claim-2449    \"January 2008 capped a 12 month period of glob...\n",
      "Name: claim_text, dtype: object\n"
     ]
    }
   ],
   "source": [
    "all_train_claims = train.iloc[0]\n",
    "\n",
    "from sklearn.feature_extraction.text import TfidfVectorizer\n",
    "from sklearn.metrics.pairwise import cosine_similarity\n",
    "\n",
    "tfidf = TfidfVectorizer()\n",
    "claims_tfidf = tfidf.fit_transform(all_train_claims)\n",
    "print(claims_tfidf)\n",
    "\n",
    "def simple_baseline_predict(claim):\n",
    "    claim_labels = [\"SUPPORTS\",\"REFUTES\",\"NOT_ENOUGH_INFO\",\"DISPUTED\"]\n",
    "\n",
    "    #randomly choose a label as initial prediction\n",
    "    claim_label = claim_labels[np.random.randint(0,4)]\n",
    "    evidences = []\n",
    "\n",
    "    return 0\n"
   ]
  }
 ],
 "metadata": {
  "kernelspec": {
   "display_name": "openai_venv",
   "language": "python",
   "name": "python3"
  },
  "language_info": {
   "codemirror_mode": {
    "name": "ipython",
    "version": 3
   },
   "file_extension": ".py",
   "mimetype": "text/x-python",
   "name": "python",
   "nbconvert_exporter": "python",
   "pygments_lexer": "ipython3",
   "version": "3.8.10"
  },
  "orig_nbformat": 4
 },
 "nbformat": 4,
 "nbformat_minor": 2
}
