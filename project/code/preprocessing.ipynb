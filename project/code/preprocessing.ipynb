{
 "cells": [
  {
   "cell_type": "code",
   "execution_count": 1,
   "metadata": {},
   "outputs": [
    {
     "name": "stdout",
     "output_type": "stream",
     "text": [
      "evidence imported\n",
      "train imported\n",
      "dev imported\n",
      "test imported\n"
     ]
    }
   ],
   "source": [
    "import pandas as pd\n",
    "import numpy as np\n",
    "from gensim.models import KeyedVectors\n",
    "from tqdm import tqdm\n",
    "\n",
    "evd = pd.read_json('../data/evidence.json',orient='index')\n",
    "print(\"evidence imported\")\n",
    "train = pd.read_json('../data/train-claims.json')\n",
    "print(\"train imported\") \n",
    "dev = pd.read_json('../data/dev-claims.json')\n",
    "print(\"dev imported\")\n",
    "test = pd.read_json('../data/test-claims-unlabelled.json')\n",
    "print(\"test imported\")\n",
    "\n",
    "evd_list = evd.iloc[:, 0].tolist()\n",
    "#load word2vec model\n",
    "word2vec_model = KeyedVectors.load_word2vec_format('../models/GoogleNews-vectors-negative300.bin.gz', binary=True)\n",
    "sentences = evd_list  \n",
    "\n",
    "# set batch size\n",
    "batch_size = 1000\n",
    "# lower case and split sentences into words\n",
    "preprocessed_sentences = [sentence.lower().split() for sentence in sentences]\n",
    "num_batches = (len(preprocessed_sentences) + batch_size - 1) // batch_size\n",
    "\n",
    "# initialize sentence embeddings\n",
    "sentence_embeddings = []\n",
    "\n"
   ]
  },
  {
   "cell_type": "code",
   "execution_count": 15,
   "metadata": {},
   "outputs": [
    {
     "name": "stderr",
     "output_type": "stream",
     "text": [
      "  0%|          | 2/1209 [00:00<01:09, 17.45it/s]"
     ]
    },
    {
     "name": "stdout",
     "output_type": "stream",
     "text": [
      "Processing batch 0\n",
      "Processing batch 1\n",
      "Processing batch 2\n",
      "Processing batch 3\n",
      "Processing batch 4\n",
      "Processing batch 5\n"
     ]
    },
    {
     "name": "stderr",
     "output_type": "stream",
     "text": [
      "  1%|          | 12/1209 [00:00<00:42, 27.98it/s]"
     ]
    },
    {
     "name": "stdout",
     "output_type": "stream",
     "text": [
      "Processing batch 6\n",
      "Processing batch 7\n",
      "Processing batch 8\n",
      "Processing batch 9\n",
      "Processing batch 10\n",
      "Processing batch 11\n"
     ]
    },
    {
     "name": "stderr",
     "output_type": "stream",
     "text": [
      "  1%|          | 15/1209 [00:00<00:42, 28.23it/s]"
     ]
    },
    {
     "name": "stdout",
     "output_type": "stream",
     "text": [
      "Processing batch 12\n",
      "Processing batch 13\n",
      "Processing batch 14\n",
      "Processing batch 15\n",
      "Processing batch 16\n",
      "Processing batch 17\n",
      "Processing batch 18\n"
     ]
    },
    {
     "name": "stderr",
     "output_type": "stream",
     "text": [
      "  2%|▏         | 23/1209 [00:00<00:39, 30.12it/s]"
     ]
    },
    {
     "name": "stdout",
     "output_type": "stream",
     "text": [
      "Processing batch 19\n",
      "Processing batch 20\n",
      "Processing batch 21\n",
      "Processing batch 22\n",
      "Processing batch 23\n",
      "Processing batch 24\n",
      "Processing batch 25\n"
     ]
    },
    {
     "name": "stderr",
     "output_type": "stream",
     "text": [
      "  3%|▎         | 31/1209 [00:01<00:38, 30.64it/s]"
     ]
    },
    {
     "name": "stdout",
     "output_type": "stream",
     "text": [
      "Processing batch 26\n",
      "Processing batch 27\n",
      "Processing batch 28\n",
      "Processing batch 29\n",
      "Processing batch 30\n",
      "Processing batch 31\n",
      "Processing batch 32\n"
     ]
    },
    {
     "name": "stderr",
     "output_type": "stream",
     "text": [
      "  3%|▎         | 35/1209 [00:01<00:38, 30.75it/s]"
     ]
    },
    {
     "name": "stdout",
     "output_type": "stream",
     "text": [
      "Processing batch 33\n",
      "Processing batch 34\n",
      "Processing batch 35\n",
      "Processing batch 36\n",
      "Processing batch 37\n",
      "Processing batch 38\n"
     ]
    },
    {
     "name": "stderr",
     "output_type": "stream",
     "text": [
      "  4%|▎         | 43/1209 [00:01<00:37, 30.97it/s]"
     ]
    },
    {
     "name": "stdout",
     "output_type": "stream",
     "text": [
      "Processing batch 39\n",
      "Processing batch 40\n",
      "Processing batch 41\n",
      "Processing batch 42\n",
      "Processing batch 43\n",
      "Processing batch 44\n",
      "Processing batch 45\n"
     ]
    },
    {
     "name": "stderr",
     "output_type": "stream",
     "text": [
      "  4%|▍         | 51/1209 [00:01<00:37, 31.24it/s]"
     ]
    },
    {
     "name": "stdout",
     "output_type": "stream",
     "text": [
      "Processing batch 46\n",
      "Processing batch 47\n",
      "Processing batch 48\n",
      "Processing batch 49\n",
      "Processing batch 50\n",
      "Processing batch 51\n",
      "Processing batch 52\n"
     ]
    },
    {
     "name": "stderr",
     "output_type": "stream",
     "text": [
      "  5%|▍         | 55/1209 [00:01<00:36, 31.31it/s]"
     ]
    },
    {
     "name": "stdout",
     "output_type": "stream",
     "text": [
      "Processing batch 53\n",
      "Processing batch 54\n",
      "Processing batch 55\n",
      "Processing batch 56\n",
      "Processing batch 57\n",
      "Processing batch 58\n"
     ]
    },
    {
     "name": "stderr",
     "output_type": "stream",
     "text": [
      "  5%|▌         | 63/1209 [00:02<00:36, 31.66it/s]"
     ]
    },
    {
     "name": "stdout",
     "output_type": "stream",
     "text": [
      "Processing batch 59\n",
      "Processing batch 60\n",
      "Processing batch 61\n",
      "Processing batch 62\n",
      "Processing batch 63\n",
      "Processing batch 64\n",
      "Processing batch 65\n"
     ]
    },
    {
     "name": "stderr",
     "output_type": "stream",
     "text": [
      "  6%|▌         | 71/1209 [00:02<00:36, 31.01it/s]"
     ]
    },
    {
     "name": "stdout",
     "output_type": "stream",
     "text": [
      "Processing batch 66\n",
      "Processing batch 67\n",
      "Processing batch 68\n",
      "Processing batch 69\n",
      "Processing batch 70\n",
      "Processing batch 71\n",
      "Processing batch 72\n"
     ]
    },
    {
     "name": "stderr",
     "output_type": "stream",
     "text": [
      "  6%|▌         | 75/1209 [00:02<00:36, 31.13it/s]"
     ]
    },
    {
     "name": "stdout",
     "output_type": "stream",
     "text": [
      "Processing batch 73\n",
      "Processing batch 74\n",
      "Processing batch 75\n",
      "Processing batch 76\n",
      "Processing batch 77\n",
      "Processing batch 78\n"
     ]
    },
    {
     "name": "stderr",
     "output_type": "stream",
     "text": [
      "  7%|▋         | 83/1209 [00:02<00:35, 31.68it/s]"
     ]
    },
    {
     "name": "stdout",
     "output_type": "stream",
     "text": [
      "Processing batch 79\n",
      "Processing batch 80\n",
      "Processing batch 81\n",
      "Processing batch 82\n",
      "Processing batch 83\n",
      "Processing batch 84\n",
      "Processing batch 85\n"
     ]
    },
    {
     "name": "stderr",
     "output_type": "stream",
     "text": [
      "  8%|▊         | 91/1209 [00:02<00:35, 31.71it/s]"
     ]
    },
    {
     "name": "stdout",
     "output_type": "stream",
     "text": [
      "Processing batch 86\n",
      "Processing batch 87\n",
      "Processing batch 88\n",
      "Processing batch 89\n",
      "Processing batch 90\n",
      "Processing batch 91\n",
      "Processing batch 92\n"
     ]
    },
    {
     "name": "stderr",
     "output_type": "stream",
     "text": [
      "  8%|▊         | 95/1209 [00:03<00:35, 31.67it/s]"
     ]
    },
    {
     "name": "stdout",
     "output_type": "stream",
     "text": [
      "Processing batch 93\n",
      "Processing batch 94\n",
      "Processing batch 95\n",
      "Processing batch 96\n",
      "Processing batch 97\n",
      "Processing batch 98\n"
     ]
    },
    {
     "name": "stderr",
     "output_type": "stream",
     "text": [
      "  9%|▊         | 103/1209 [00:03<00:34, 31.81it/s]"
     ]
    },
    {
     "name": "stdout",
     "output_type": "stream",
     "text": [
      "Processing batch 99\n",
      "Processing batch 100\n",
      "Processing batch 101\n",
      "Processing batch 102\n",
      "Processing batch 103\n",
      "Processing batch 104\n",
      "Processing batch 105\n"
     ]
    },
    {
     "name": "stderr",
     "output_type": "stream",
     "text": [
      "  9%|▉         | 111/1209 [00:03<00:35, 31.32it/s]"
     ]
    },
    {
     "name": "stdout",
     "output_type": "stream",
     "text": [
      "Processing batch 106\n",
      "Processing batch 107\n",
      "Processing batch 108\n",
      "Processing batch 109\n",
      "Processing batch 110\n",
      "Processing batch 111\n",
      "Processing batch 112\n"
     ]
    },
    {
     "name": "stderr",
     "output_type": "stream",
     "text": [
      " 10%|▉         | 115/1209 [00:03<00:35, 31.11it/s]"
     ]
    },
    {
     "name": "stdout",
     "output_type": "stream",
     "text": [
      "Processing batch 113\n",
      "Processing batch 114\n",
      "Processing batch 115\n",
      "Processing batch 116\n",
      "Processing batch 117\n",
      "Processing batch 118\n"
     ]
    },
    {
     "name": "stderr",
     "output_type": "stream",
     "text": [
      " 10%|█         | 123/1209 [00:04<00:36, 29.77it/s]"
     ]
    },
    {
     "name": "stdout",
     "output_type": "stream",
     "text": [
      "Processing batch 119\n",
      "Processing batch 120\n",
      "Processing batch 121\n",
      "Processing batch 122\n",
      "Processing batch 123\n",
      "Processing batch 124\n"
     ]
    },
    {
     "name": "stderr",
     "output_type": "stream",
     "text": [
      " 11%|█         | 130/1209 [00:04<00:36, 29.82it/s]"
     ]
    },
    {
     "name": "stdout",
     "output_type": "stream",
     "text": [
      "Processing batch 125\n",
      "Processing batch 126\n",
      "Processing batch 127\n",
      "Processing batch 128\n",
      "Processing batch 129\n",
      "Processing batch 130\n",
      "Processing batch 131\n"
     ]
    },
    {
     "name": "stderr",
     "output_type": "stream",
     "text": [
      " 11%|█         | 134/1209 [00:04<00:35, 30.28it/s]"
     ]
    },
    {
     "name": "stdout",
     "output_type": "stream",
     "text": [
      "Processing batch 132\n",
      "Processing batch 133\n",
      "Processing batch 134\n",
      "Processing batch 135\n",
      "Processing batch 136\n",
      "Processing batch 137\n"
     ]
    },
    {
     "name": "stderr",
     "output_type": "stream",
     "text": [
      " 12%|█▏        | 142/1209 [00:04<00:34, 30.86it/s]"
     ]
    },
    {
     "name": "stdout",
     "output_type": "stream",
     "text": [
      "Processing batch 138\n",
      "Processing batch 139\n",
      "Processing batch 140\n",
      "Processing batch 141\n",
      "Processing batch 142\n",
      "Processing batch 143\n",
      "Processing batch 144\n"
     ]
    },
    {
     "name": "stderr",
     "output_type": "stream",
     "text": [
      " 12%|█▏        | 150/1209 [00:04<00:34, 31.12it/s]"
     ]
    },
    {
     "name": "stdout",
     "output_type": "stream",
     "text": [
      "Processing batch 145\n",
      "Processing batch 146\n",
      "Processing batch 147\n",
      "Processing batch 148\n",
      "Processing batch 149\n",
      "Processing batch 150\n",
      "Processing batch 151\n"
     ]
    },
    {
     "name": "stderr",
     "output_type": "stream",
     "text": [
      " 13%|█▎        | 154/1209 [00:05<00:33, 31.56it/s]"
     ]
    },
    {
     "name": "stdout",
     "output_type": "stream",
     "text": [
      "Processing batch 152\n",
      "Processing batch 153\n",
      "Processing batch 154\n",
      "Processing batch 155\n",
      "Processing batch 156\n",
      "Processing batch 157\n"
     ]
    },
    {
     "name": "stderr",
     "output_type": "stream",
     "text": [
      " 13%|█▎        | 162/1209 [00:05<00:33, 31.68it/s]"
     ]
    },
    {
     "name": "stdout",
     "output_type": "stream",
     "text": [
      "Processing batch 158\n",
      "Processing batch 159\n",
      "Processing batch 160\n",
      "Processing batch 161\n",
      "Processing batch 162\n",
      "Processing batch 163\n",
      "Processing batch 164\n"
     ]
    },
    {
     "name": "stderr",
     "output_type": "stream",
     "text": [
      " 14%|█▍        | 170/1209 [00:05<00:32, 31.62it/s]"
     ]
    },
    {
     "name": "stdout",
     "output_type": "stream",
     "text": [
      "Processing batch 165\n",
      "Processing batch 166\n",
      "Processing batch 167\n",
      "Processing batch 168\n",
      "Processing batch 169\n",
      "Processing batch 170\n",
      "Processing batch 171\n"
     ]
    },
    {
     "name": "stderr",
     "output_type": "stream",
     "text": [
      " 14%|█▍        | 174/1209 [00:05<00:33, 31.31it/s]"
     ]
    },
    {
     "name": "stdout",
     "output_type": "stream",
     "text": [
      "Processing batch 172\n",
      "Processing batch 173\n",
      "Processing batch 174\n",
      "Processing batch 175\n",
      "Processing batch 176\n",
      "Processing batch 177\n"
     ]
    },
    {
     "name": "stderr",
     "output_type": "stream",
     "text": [
      " 15%|█▌        | 182/1209 [00:05<00:33, 30.71it/s]"
     ]
    },
    {
     "name": "stdout",
     "output_type": "stream",
     "text": [
      "Processing batch 178\n",
      "Processing batch 179\n",
      "Processing batch 180\n",
      "Processing batch 181\n",
      "Processing batch 182\n",
      "Processing batch 183\n",
      "Processing batch 184\n"
     ]
    },
    {
     "name": "stderr",
     "output_type": "stream",
     "text": [
      " 16%|█▌        | 190/1209 [00:06<00:33, 30.50it/s]"
     ]
    },
    {
     "name": "stdout",
     "output_type": "stream",
     "text": [
      "Processing batch 185\n",
      "Processing batch 186\n",
      "Processing batch 187\n",
      "Processing batch 188\n",
      "Processing batch 189\n",
      "Processing batch 190\n",
      "Processing batch 191\n"
     ]
    },
    {
     "name": "stderr",
     "output_type": "stream",
     "text": [
      " 16%|█▌        | 194/1209 [00:06<00:33, 30.44it/s]"
     ]
    },
    {
     "name": "stdout",
     "output_type": "stream",
     "text": [
      "Processing batch 192\n",
      "Processing batch 193\n",
      "Processing batch 194\n",
      "Processing batch 195\n",
      "Processing batch 196\n",
      "Processing batch 197\n"
     ]
    },
    {
     "name": "stderr",
     "output_type": "stream",
     "text": [
      " 17%|█▋        | 202/1209 [00:06<00:34, 29.23it/s]"
     ]
    },
    {
     "name": "stdout",
     "output_type": "stream",
     "text": [
      "Processing batch 198\n",
      "Processing batch 199\n",
      "Processing batch 200\n",
      "Processing batch 201\n",
      "Processing batch 202\n",
      "Processing batch 203\n"
     ]
    },
    {
     "name": "stderr",
     "output_type": "stream",
     "text": [
      " 17%|█▋        | 209/1209 [00:06<00:33, 29.63it/s]"
     ]
    },
    {
     "name": "stdout",
     "output_type": "stream",
     "text": [
      "Processing batch 204\n",
      "Processing batch 205\n",
      "Processing batch 206\n",
      "Processing batch 207\n",
      "Processing batch 208\n",
      "Processing batch 209\n",
      "Processing batch 210\n"
     ]
    },
    {
     "name": "stderr",
     "output_type": "stream",
     "text": [
      " 18%|█▊        | 216/1209 [00:07<00:33, 29.77it/s]"
     ]
    },
    {
     "name": "stdout",
     "output_type": "stream",
     "text": [
      "Processing batch 211\n",
      "Processing batch 212\n",
      "Processing batch 213\n",
      "Processing batch 214\n",
      "Processing batch 215\n",
      "Processing batch 216\n",
      "Processing batch 217\n"
     ]
    },
    {
     "name": "stderr",
     "output_type": "stream",
     "text": [
      " 18%|█▊        | 220/1209 [00:07<00:32, 30.26it/s]"
     ]
    },
    {
     "name": "stdout",
     "output_type": "stream",
     "text": [
      "Processing batch 218\n",
      "Processing batch 219\n",
      "Processing batch 220\n",
      "Processing batch 221\n",
      "Processing batch 222\n",
      "Processing batch 223\n"
     ]
    },
    {
     "name": "stderr",
     "output_type": "stream",
     "text": [
      " 19%|█▉        | 228/1209 [00:07<00:31, 31.01it/s]"
     ]
    },
    {
     "name": "stdout",
     "output_type": "stream",
     "text": [
      "Processing batch 224\n",
      "Processing batch 225\n",
      "Processing batch 226\n",
      "Processing batch 227\n",
      "Processing batch 228\n",
      "Processing batch 229\n",
      "Processing batch 230\n"
     ]
    },
    {
     "name": "stderr",
     "output_type": "stream",
     "text": [
      " 20%|█▉        | 236/1209 [00:07<00:30, 31.40it/s]"
     ]
    },
    {
     "name": "stdout",
     "output_type": "stream",
     "text": [
      "Processing batch 231\n",
      "Processing batch 232\n",
      "Processing batch 233\n",
      "Processing batch 234\n",
      "Processing batch 235\n",
      "Processing batch 236\n",
      "Processing batch 237\n"
     ]
    },
    {
     "name": "stderr",
     "output_type": "stream",
     "text": [
      " 20%|█▉        | 240/1209 [00:07<00:30, 31.34it/s]"
     ]
    },
    {
     "name": "stdout",
     "output_type": "stream",
     "text": [
      "Processing batch 238\n",
      "Processing batch 239\n",
      "Processing batch 240\n",
      "Processing batch 241\n",
      "Processing batch 242\n",
      "Processing batch 243\n"
     ]
    },
    {
     "name": "stderr",
     "output_type": "stream",
     "text": [
      " 21%|██        | 248/1209 [00:08<00:30, 31.59it/s]"
     ]
    },
    {
     "name": "stdout",
     "output_type": "stream",
     "text": [
      "Processing batch 244\n",
      "Processing batch 245\n",
      "Processing batch 246\n",
      "Processing batch 247\n",
      "Processing batch 248\n",
      "Processing batch 249\n",
      "Processing batch 250\n"
     ]
    },
    {
     "name": "stderr",
     "output_type": "stream",
     "text": [
      " 21%|██        | 256/1209 [00:08<00:30, 31.31it/s]"
     ]
    },
    {
     "name": "stdout",
     "output_type": "stream",
     "text": [
      "Processing batch 251\n",
      "Processing batch 252\n",
      "Processing batch 253\n",
      "Processing batch 254\n",
      "Processing batch 255\n",
      "Processing batch 256\n",
      "Processing batch 257\n"
     ]
    },
    {
     "name": "stderr",
     "output_type": "stream",
     "text": [
      " 22%|██▏       | 260/1209 [00:08<00:30, 31.43it/s]"
     ]
    },
    {
     "name": "stdout",
     "output_type": "stream",
     "text": [
      "Processing batch 258\n",
      "Processing batch 259\n",
      "Processing batch 260\n",
      "Processing batch 261\n",
      "Processing batch 262\n",
      "Processing batch 263\n"
     ]
    },
    {
     "name": "stderr",
     "output_type": "stream",
     "text": [
      " 22%|██▏       | 268/1209 [00:08<00:30, 31.25it/s]"
     ]
    },
    {
     "name": "stdout",
     "output_type": "stream",
     "text": [
      "Processing batch 264\n",
      "Processing batch 265\n",
      "Processing batch 266\n",
      "Processing batch 267\n",
      "Processing batch 268\n",
      "Processing batch 269\n",
      "Processing batch 270\n"
     ]
    },
    {
     "name": "stderr",
     "output_type": "stream",
     "text": [
      " 22%|██▏       | 272/1209 [00:08<00:31, 29.94it/s]"
     ]
    },
    {
     "name": "stdout",
     "output_type": "stream",
     "text": [
      "Processing batch 271\n",
      "Processing batch 272\n",
      "Processing batch 273\n",
      "Processing batch 274\n",
      "Processing batch 275\n"
     ]
    },
    {
     "name": "stderr",
     "output_type": "stream",
     "text": [
      " 23%|██▎       | 280/1209 [00:09<00:30, 30.34it/s]"
     ]
    },
    {
     "name": "stdout",
     "output_type": "stream",
     "text": [
      "Processing batch 276\n",
      "Processing batch 277\n",
      "Processing batch 278\n",
      "Processing batch 279\n",
      "Processing batch 280\n",
      "Processing batch 281\n",
      "Processing batch 282\n"
     ]
    },
    {
     "name": "stderr",
     "output_type": "stream",
     "text": [
      " 24%|██▍       | 288/1209 [00:09<00:29, 31.18it/s]"
     ]
    },
    {
     "name": "stdout",
     "output_type": "stream",
     "text": [
      "Processing batch 283\n",
      "Processing batch 284\n",
      "Processing batch 285\n",
      "Processing batch 286\n",
      "Processing batch 287\n",
      "Processing batch 288\n",
      "Processing batch 289\n"
     ]
    },
    {
     "name": "stderr",
     "output_type": "stream",
     "text": [
      " 24%|██▍       | 292/1209 [00:09<00:29, 31.34it/s]"
     ]
    },
    {
     "name": "stdout",
     "output_type": "stream",
     "text": [
      "Processing batch 290\n",
      "Processing batch 291\n",
      "Processing batch 292\n",
      "Processing batch 293\n",
      "Processing batch 294\n",
      "Processing batch 295\n"
     ]
    },
    {
     "name": "stderr",
     "output_type": "stream",
     "text": [
      " 25%|██▍       | 300/1209 [00:09<00:28, 31.74it/s]"
     ]
    },
    {
     "name": "stdout",
     "output_type": "stream",
     "text": [
      "Processing batch 296\n",
      "Processing batch 297\n",
      "Processing batch 298\n",
      "Processing batch 299\n",
      "Processing batch 300\n",
      "Processing batch 301\n",
      "Processing batch 302\n"
     ]
    },
    {
     "name": "stderr",
     "output_type": "stream",
     "text": [
      " 25%|██▌       | 308/1209 [00:09<00:28, 31.61it/s]"
     ]
    },
    {
     "name": "stdout",
     "output_type": "stream",
     "text": [
      "Processing batch 303\n",
      "Processing batch 304\n",
      "Processing batch 305\n",
      "Processing batch 306\n",
      "Processing batch 307\n",
      "Processing batch 308\n",
      "Processing batch 309\n"
     ]
    },
    {
     "name": "stderr",
     "output_type": "stream",
     "text": [
      " 26%|██▌       | 312/1209 [00:10<00:28, 31.49it/s]"
     ]
    },
    {
     "name": "stdout",
     "output_type": "stream",
     "text": [
      "Processing batch 310\n",
      "Processing batch 311\n",
      "Processing batch 312\n",
      "Processing batch 313\n",
      "Processing batch 314\n",
      "Processing batch 315\n"
     ]
    },
    {
     "name": "stderr",
     "output_type": "stream",
     "text": [
      " 26%|██▋       | 320/1209 [00:10<00:27, 31.90it/s]"
     ]
    },
    {
     "name": "stdout",
     "output_type": "stream",
     "text": [
      "Processing batch 316\n",
      "Processing batch 317\n",
      "Processing batch 318\n",
      "Processing batch 319\n",
      "Processing batch 320\n",
      "Processing batch 321\n",
      "Processing batch 322\n"
     ]
    },
    {
     "name": "stderr",
     "output_type": "stream",
     "text": [
      " 27%|██▋       | 328/1209 [00:10<00:27, 32.03it/s]"
     ]
    },
    {
     "name": "stdout",
     "output_type": "stream",
     "text": [
      "Processing batch 323\n",
      "Processing batch 324\n",
      "Processing batch 325\n",
      "Processing batch 326\n",
      "Processing batch 327\n",
      "Processing batch 328\n",
      "Processing batch 329\n"
     ]
    },
    {
     "name": "stderr",
     "output_type": "stream",
     "text": [
      " 27%|██▋       | 332/1209 [00:10<00:27, 31.97it/s]"
     ]
    },
    {
     "name": "stdout",
     "output_type": "stream",
     "text": [
      "Processing batch 330\n",
      "Processing batch 331\n",
      "Processing batch 332\n",
      "Processing batch 333\n",
      "Processing batch 334\n",
      "Processing batch 335\n"
     ]
    },
    {
     "name": "stderr",
     "output_type": "stream",
     "text": [
      " 28%|██▊       | 340/1209 [00:10<00:27, 32.17it/s]"
     ]
    },
    {
     "name": "stdout",
     "output_type": "stream",
     "text": [
      "Processing batch 336\n",
      "Processing batch 337\n",
      "Processing batch 338\n",
      "Processing batch 339\n",
      "Processing batch 340\n",
      "Processing batch 341\n",
      "Processing batch 342\n"
     ]
    },
    {
     "name": "stderr",
     "output_type": "stream",
     "text": [
      " 29%|██▉       | 348/1209 [00:11<00:27, 31.36it/s]"
     ]
    },
    {
     "name": "stdout",
     "output_type": "stream",
     "text": [
      "Processing batch 343\n",
      "Processing batch 344\n",
      "Processing batch 345\n",
      "Processing batch 346\n",
      "Processing batch 347\n",
      "Processing batch 348\n",
      "Processing batch 349\n"
     ]
    },
    {
     "name": "stderr",
     "output_type": "stream",
     "text": [
      " 29%|██▉       | 352/1209 [00:11<00:27, 31.58it/s]"
     ]
    },
    {
     "name": "stdout",
     "output_type": "stream",
     "text": [
      "Processing batch 350\n",
      "Processing batch 351\n",
      "Processing batch 352\n",
      "Processing batch 353\n",
      "Processing batch 354\n",
      "Processing batch 355\n"
     ]
    },
    {
     "name": "stderr",
     "output_type": "stream",
     "text": [
      " 30%|██▉       | 360/1209 [00:11<00:26, 31.89it/s]"
     ]
    },
    {
     "name": "stdout",
     "output_type": "stream",
     "text": [
      "Processing batch 356\n",
      "Processing batch 357\n",
      "Processing batch 358\n",
      "Processing batch 359\n",
      "Processing batch 360\n",
      "Processing batch 361\n",
      "Processing batch 362\n"
     ]
    },
    {
     "name": "stderr",
     "output_type": "stream",
     "text": [
      " 30%|███       | 368/1209 [00:11<00:26, 32.05it/s]"
     ]
    },
    {
     "name": "stdout",
     "output_type": "stream",
     "text": [
      "Processing batch 363\n",
      "Processing batch 364\n",
      "Processing batch 365\n",
      "Processing batch 366\n",
      "Processing batch 367\n",
      "Processing batch 368\n",
      "Processing batch 369\n"
     ]
    },
    {
     "name": "stderr",
     "output_type": "stream",
     "text": [
      " 31%|███       | 372/1209 [00:12<00:26, 32.03it/s]"
     ]
    },
    {
     "name": "stdout",
     "output_type": "stream",
     "text": [
      "Processing batch 370\n",
      "Processing batch 371\n",
      "Processing batch 372\n",
      "Processing batch 373\n",
      "Processing batch 374\n",
      "Processing batch 375\n"
     ]
    },
    {
     "name": "stderr",
     "output_type": "stream",
     "text": [
      " 31%|███▏      | 380/1209 [00:12<00:25, 31.93it/s]"
     ]
    },
    {
     "name": "stdout",
     "output_type": "stream",
     "text": [
      "Processing batch 376\n",
      "Processing batch 377\n",
      "Processing batch 378\n",
      "Processing batch 379\n",
      "Processing batch 380\n",
      "Processing batch 381\n",
      "Processing batch 382\n"
     ]
    },
    {
     "name": "stderr",
     "output_type": "stream",
     "text": [
      " 32%|███▏      | 388/1209 [00:12<00:25, 31.86it/s]"
     ]
    },
    {
     "name": "stdout",
     "output_type": "stream",
     "text": [
      "Processing batch 383\n",
      "Processing batch 384\n",
      "Processing batch 385\n",
      "Processing batch 386\n",
      "Processing batch 387\n",
      "Processing batch 388\n",
      "Processing batch 389\n"
     ]
    },
    {
     "name": "stderr",
     "output_type": "stream",
     "text": [
      " 32%|███▏      | 392/1209 [00:12<00:25, 31.85it/s]"
     ]
    },
    {
     "name": "stdout",
     "output_type": "stream",
     "text": [
      "Processing batch 390\n",
      "Processing batch 391\n",
      "Processing batch 392\n",
      "Processing batch 393\n",
      "Processing batch 394\n",
      "Processing batch 395\n"
     ]
    },
    {
     "name": "stderr",
     "output_type": "stream",
     "text": [
      " 33%|███▎      | 400/1209 [00:12<00:25, 32.06it/s]"
     ]
    },
    {
     "name": "stdout",
     "output_type": "stream",
     "text": [
      "Processing batch 396\n",
      "Processing batch 397\n",
      "Processing batch 398\n",
      "Processing batch 399\n",
      "Processing batch 400\n",
      "Processing batch 401\n",
      "Processing batch 402\n"
     ]
    },
    {
     "name": "stderr",
     "output_type": "stream",
     "text": [
      " 34%|███▎      | 408/1209 [00:13<00:24, 32.10it/s]"
     ]
    },
    {
     "name": "stdout",
     "output_type": "stream",
     "text": [
      "Processing batch 403\n",
      "Processing batch 404\n",
      "Processing batch 405\n",
      "Processing batch 406\n",
      "Processing batch 407\n",
      "Processing batch 408\n",
      "Processing batch 409\n"
     ]
    },
    {
     "name": "stderr",
     "output_type": "stream",
     "text": [
      " 34%|███▍      | 412/1209 [00:13<00:24, 32.02it/s]"
     ]
    },
    {
     "name": "stdout",
     "output_type": "stream",
     "text": [
      "Processing batch 410\n",
      "Processing batch 411\n",
      "Processing batch 412\n",
      "Processing batch 413\n",
      "Processing batch 414\n",
      "Processing batch 415\n"
     ]
    },
    {
     "name": "stderr",
     "output_type": "stream",
     "text": [
      " 35%|███▍      | 420/1209 [00:13<00:24, 31.88it/s]"
     ]
    },
    {
     "name": "stdout",
     "output_type": "stream",
     "text": [
      "Processing batch 416\n",
      "Processing batch 417\n",
      "Processing batch 418\n",
      "Processing batch 419\n",
      "Processing batch 420\n",
      "Processing batch 421\n",
      "Processing batch 422\n"
     ]
    },
    {
     "name": "stderr",
     "output_type": "stream",
     "text": [
      " 35%|███▌      | 428/1209 [00:13<00:25, 31.19it/s]"
     ]
    },
    {
     "name": "stdout",
     "output_type": "stream",
     "text": [
      "Processing batch 423\n",
      "Processing batch 424\n",
      "Processing batch 425\n",
      "Processing batch 426\n",
      "Processing batch 427\n",
      "Processing batch 428\n",
      "Processing batch 429\n"
     ]
    },
    {
     "name": "stderr",
     "output_type": "stream",
     "text": [
      " 36%|███▌      | 432/1209 [00:13<00:24, 31.38it/s]"
     ]
    },
    {
     "name": "stdout",
     "output_type": "stream",
     "text": [
      "Processing batch 430\n",
      "Processing batch 431\n",
      "Processing batch 432\n",
      "Processing batch 433\n",
      "Processing batch 434\n",
      "Processing batch 435\n"
     ]
    },
    {
     "name": "stderr",
     "output_type": "stream",
     "text": [
      " 36%|███▋      | 440/1209 [00:14<00:24, 31.69it/s]"
     ]
    },
    {
     "name": "stdout",
     "output_type": "stream",
     "text": [
      "Processing batch 436\n",
      "Processing batch 437\n",
      "Processing batch 438\n",
      "Processing batch 439\n",
      "Processing batch 440\n",
      "Processing batch 441\n",
      "Processing batch 442\n"
     ]
    },
    {
     "name": "stderr",
     "output_type": "stream",
     "text": [
      " 37%|███▋      | 448/1209 [00:14<00:23, 31.83it/s]"
     ]
    },
    {
     "name": "stdout",
     "output_type": "stream",
     "text": [
      "Processing batch 443\n",
      "Processing batch 444\n",
      "Processing batch 445\n",
      "Processing batch 446\n",
      "Processing batch 447\n",
      "Processing batch 448\n",
      "Processing batch 449\n"
     ]
    },
    {
     "name": "stderr",
     "output_type": "stream",
     "text": [
      " 37%|███▋      | 452/1209 [00:14<00:23, 31.76it/s]"
     ]
    },
    {
     "name": "stdout",
     "output_type": "stream",
     "text": [
      "Processing batch 450\n",
      "Processing batch 451\n",
      "Processing batch 452\n",
      "Processing batch 453\n",
      "Processing batch 454\n",
      "Processing batch 455\n"
     ]
    },
    {
     "name": "stderr",
     "output_type": "stream",
     "text": [
      " 38%|███▊      | 460/1209 [00:14<00:23, 31.60it/s]"
     ]
    },
    {
     "name": "stdout",
     "output_type": "stream",
     "text": [
      "Processing batch 456\n",
      "Processing batch 457\n",
      "Processing batch 458\n",
      "Processing batch 459\n",
      "Processing batch 460\n",
      "Processing batch 461\n",
      "Processing batch 462\n"
     ]
    },
    {
     "name": "stderr",
     "output_type": "stream",
     "text": [
      " 39%|███▊      | 468/1209 [00:15<00:23, 31.87it/s]"
     ]
    },
    {
     "name": "stdout",
     "output_type": "stream",
     "text": [
      "Processing batch 463\n",
      "Processing batch 464\n",
      "Processing batch 465\n",
      "Processing batch 466\n",
      "Processing batch 467\n",
      "Processing batch 468\n",
      "Processing batch 469\n"
     ]
    },
    {
     "name": "stderr",
     "output_type": "stream",
     "text": [
      " 39%|███▉      | 472/1209 [00:15<00:23, 31.75it/s]"
     ]
    },
    {
     "name": "stdout",
     "output_type": "stream",
     "text": [
      "Processing batch 470\n",
      "Processing batch 471\n",
      "Processing batch 472\n",
      "Processing batch 473\n",
      "Processing batch 474\n",
      "Processing batch 475\n"
     ]
    },
    {
     "name": "stderr",
     "output_type": "stream",
     "text": [
      " 40%|███▉      | 480/1209 [00:15<00:23, 31.46it/s]"
     ]
    },
    {
     "name": "stdout",
     "output_type": "stream",
     "text": [
      "Processing batch 476\n",
      "Processing batch 477\n",
      "Processing batch 478\n",
      "Processing batch 479\n",
      "Processing batch 480\n",
      "Processing batch 481\n",
      "Processing batch 482\n"
     ]
    },
    {
     "name": "stderr",
     "output_type": "stream",
     "text": [
      " 40%|████      | 488/1209 [00:15<00:22, 31.65it/s]"
     ]
    },
    {
     "name": "stdout",
     "output_type": "stream",
     "text": [
      "Processing batch 483\n",
      "Processing batch 484\n",
      "Processing batch 485\n",
      "Processing batch 486\n",
      "Processing batch 487\n",
      "Processing batch 488\n",
      "Processing batch 489\n"
     ]
    },
    {
     "name": "stderr",
     "output_type": "stream",
     "text": [
      " 41%|████      | 492/1209 [00:15<00:22, 31.52it/s]"
     ]
    },
    {
     "name": "stdout",
     "output_type": "stream",
     "text": [
      "Processing batch 490\n",
      "Processing batch 491\n",
      "Processing batch 492\n",
      "Processing batch 493\n",
      "Processing batch 494\n",
      "Processing batch 495\n"
     ]
    },
    {
     "name": "stderr",
     "output_type": "stream",
     "text": [
      " 41%|████▏     | 500/1209 [00:16<00:23, 30.69it/s]"
     ]
    },
    {
     "name": "stdout",
     "output_type": "stream",
     "text": [
      "Processing batch 496\n",
      "Processing batch 497\n",
      "Processing batch 498\n",
      "Processing batch 499\n",
      "Processing batch 500\n",
      "Processing batch 501\n"
     ]
    },
    {
     "name": "stderr",
     "output_type": "stream",
     "text": [
      " 42%|████▏     | 504/1209 [00:16<00:22, 30.74it/s]"
     ]
    },
    {
     "name": "stdout",
     "output_type": "stream",
     "text": [
      "Processing batch 502\n",
      "Processing batch 503\n",
      "Processing batch 504\n",
      "Processing batch 505\n",
      "Processing batch 506\n",
      "Processing batch 507\n"
     ]
    },
    {
     "name": "stderr",
     "output_type": "stream",
     "text": [
      " 42%|████▏     | 512/1209 [00:16<00:22, 30.94it/s]"
     ]
    },
    {
     "name": "stdout",
     "output_type": "stream",
     "text": [
      "Processing batch 508\n",
      "Processing batch 509\n",
      "Processing batch 510\n",
      "Processing batch 511\n",
      "Processing batch 512\n",
      "Processing batch 513\n",
      "Processing batch 514\n"
     ]
    },
    {
     "name": "stderr",
     "output_type": "stream",
     "text": [
      " 43%|████▎     | 520/1209 [00:16<00:21, 31.57it/s]"
     ]
    },
    {
     "name": "stdout",
     "output_type": "stream",
     "text": [
      "Processing batch 515\n",
      "Processing batch 516\n",
      "Processing batch 517\n",
      "Processing batch 518\n",
      "Processing batch 519\n",
      "Processing batch 520\n",
      "Processing batch 521\n"
     ]
    },
    {
     "name": "stderr",
     "output_type": "stream",
     "text": [
      " 43%|████▎     | 524/1209 [00:16<00:21, 31.50it/s]"
     ]
    },
    {
     "name": "stdout",
     "output_type": "stream",
     "text": [
      "Processing batch 522\n",
      "Processing batch 523\n",
      "Processing batch 524\n",
      "Processing batch 525\n",
      "Processing batch 526\n",
      "Processing batch 527\n"
     ]
    },
    {
     "name": "stderr",
     "output_type": "stream",
     "text": [
      " 44%|████▍     | 532/1209 [00:17<00:21, 31.54it/s]"
     ]
    },
    {
     "name": "stdout",
     "output_type": "stream",
     "text": [
      "Processing batch 528\n",
      "Processing batch 529\n",
      "Processing batch 530\n",
      "Processing batch 531\n",
      "Processing batch 532\n",
      "Processing batch 533\n",
      "Processing batch 534\n"
     ]
    },
    {
     "name": "stderr",
     "output_type": "stream",
     "text": [
      " 45%|████▍     | 540/1209 [00:17<00:21, 31.01it/s]"
     ]
    },
    {
     "name": "stdout",
     "output_type": "stream",
     "text": [
      "Processing batch 535\n",
      "Processing batch 536\n",
      "Processing batch 537\n",
      "Processing batch 538\n",
      "Processing batch 539\n",
      "Processing batch 540\n",
      "Processing batch 541\n"
     ]
    },
    {
     "name": "stderr",
     "output_type": "stream",
     "text": [
      " 45%|████▍     | 544/1209 [00:17<00:21, 31.26it/s]"
     ]
    },
    {
     "name": "stdout",
     "output_type": "stream",
     "text": [
      "Processing batch 542\n",
      "Processing batch 543\n",
      "Processing batch 544\n",
      "Processing batch 545\n",
      "Processing batch 546\n",
      "Processing batch 547\n"
     ]
    },
    {
     "name": "stderr",
     "output_type": "stream",
     "text": [
      " 46%|████▌     | 552/1209 [00:17<00:20, 31.61it/s]"
     ]
    },
    {
     "name": "stdout",
     "output_type": "stream",
     "text": [
      "Processing batch 548\n",
      "Processing batch 549\n",
      "Processing batch 550\n",
      "Processing batch 551\n",
      "Processing batch 552\n",
      "Processing batch 553\n",
      "Processing batch 554\n"
     ]
    },
    {
     "name": "stderr",
     "output_type": "stream",
     "text": [
      " 46%|████▋     | 560/1209 [00:17<00:20, 31.04it/s]"
     ]
    },
    {
     "name": "stdout",
     "output_type": "stream",
     "text": [
      "Processing batch 555\n",
      "Processing batch 556\n",
      "Processing batch 557\n",
      "Processing batch 558\n",
      "Processing batch 559\n",
      "Processing batch 560\n",
      "Processing batch 561\n"
     ]
    },
    {
     "name": "stderr",
     "output_type": "stream",
     "text": [
      " 47%|████▋     | 564/1209 [00:18<00:20, 31.21it/s]"
     ]
    },
    {
     "name": "stdout",
     "output_type": "stream",
     "text": [
      "Processing batch 562\n",
      "Processing batch 563\n",
      "Processing batch 564\n",
      "Processing batch 565\n",
      "Processing batch 566\n",
      "Processing batch 567\n"
     ]
    },
    {
     "name": "stderr",
     "output_type": "stream",
     "text": [
      " 47%|████▋     | 572/1209 [00:18<00:20, 30.45it/s]"
     ]
    },
    {
     "name": "stdout",
     "output_type": "stream",
     "text": [
      "Processing batch 568\n",
      "Processing batch 569\n",
      "Processing batch 570\n",
      "Processing batch 571\n",
      "Processing batch 572\n",
      "Processing batch 573\n",
      "Processing batch 574\n"
     ]
    },
    {
     "name": "stderr",
     "output_type": "stream",
     "text": [
      " 48%|████▊     | 580/1209 [00:18<00:20, 31.21it/s]"
     ]
    },
    {
     "name": "stdout",
     "output_type": "stream",
     "text": [
      "Processing batch 575\n",
      "Processing batch 576\n",
      "Processing batch 577\n",
      "Processing batch 578\n",
      "Processing batch 579\n",
      "Processing batch 580\n",
      "Processing batch 581\n"
     ]
    },
    {
     "name": "stderr",
     "output_type": "stream",
     "text": [
      " 48%|████▊     | 584/1209 [00:18<00:19, 31.39it/s]"
     ]
    },
    {
     "name": "stdout",
     "output_type": "stream",
     "text": [
      "Processing batch 582\n",
      "Processing batch 583\n",
      "Processing batch 584\n",
      "Processing batch 585\n",
      "Processing batch 586\n",
      "Processing batch 587\n"
     ]
    },
    {
     "name": "stderr",
     "output_type": "stream",
     "text": [
      " 49%|████▉     | 592/1209 [00:18<00:19, 31.65it/s]"
     ]
    },
    {
     "name": "stdout",
     "output_type": "stream",
     "text": [
      "Processing batch 588\n",
      "Processing batch 589\n",
      "Processing batch 590\n",
      "Processing batch 591\n",
      "Processing batch 592\n",
      "Processing batch 593\n",
      "Processing batch 594\n"
     ]
    },
    {
     "name": "stderr",
     "output_type": "stream",
     "text": [
      " 50%|████▉     | 600/1209 [00:19<00:19, 31.64it/s]"
     ]
    },
    {
     "name": "stdout",
     "output_type": "stream",
     "text": [
      "Processing batch 595\n",
      "Processing batch 596\n",
      "Processing batch 597\n",
      "Processing batch 598\n",
      "Processing batch 599\n",
      "Processing batch 600\n",
      "Processing batch 601\n"
     ]
    },
    {
     "name": "stderr",
     "output_type": "stream",
     "text": [
      " 50%|████▉     | 604/1209 [00:19<00:19, 31.47it/s]"
     ]
    },
    {
     "name": "stdout",
     "output_type": "stream",
     "text": [
      "Processing batch 602\n",
      "Processing batch 603\n",
      "Processing batch 604\n",
      "Processing batch 605\n",
      "Processing batch 606\n",
      "Processing batch 607\n"
     ]
    },
    {
     "name": "stderr",
     "output_type": "stream",
     "text": [
      " 51%|█████     | 612/1209 [00:19<00:19, 30.89it/s]"
     ]
    },
    {
     "name": "stdout",
     "output_type": "stream",
     "text": [
      "Processing batch 608\n",
      "Processing batch 609\n",
      "Processing batch 610\n",
      "Processing batch 611\n",
      "Processing batch 612\n",
      "Processing batch 613\n",
      "Processing batch 614\n"
     ]
    },
    {
     "name": "stderr",
     "output_type": "stream",
     "text": [
      " 51%|█████▏    | 620/1209 [00:19<00:18, 31.21it/s]"
     ]
    },
    {
     "name": "stdout",
     "output_type": "stream",
     "text": [
      "Processing batch 615\n",
      "Processing batch 616\n",
      "Processing batch 617\n",
      "Processing batch 618\n",
      "Processing batch 619\n",
      "Processing batch 620\n",
      "Processing batch 621\n"
     ]
    },
    {
     "name": "stderr",
     "output_type": "stream",
     "text": [
      " 52%|█████▏    | 624/1209 [00:20<00:18, 31.14it/s]"
     ]
    },
    {
     "name": "stdout",
     "output_type": "stream",
     "text": [
      "Processing batch 622\n",
      "Processing batch 623\n",
      "Processing batch 624\n",
      "Processing batch 625\n",
      "Processing batch 626\n",
      "Processing batch 627\n"
     ]
    },
    {
     "name": "stderr",
     "output_type": "stream",
     "text": [
      " 52%|█████▏    | 632/1209 [00:20<00:18, 31.21it/s]"
     ]
    },
    {
     "name": "stdout",
     "output_type": "stream",
     "text": [
      "Processing batch 628\n",
      "Processing batch 629\n",
      "Processing batch 630\n",
      "Processing batch 631\n",
      "Processing batch 632\n",
      "Processing batch 633\n",
      "Processing batch 634\n"
     ]
    },
    {
     "name": "stderr",
     "output_type": "stream",
     "text": [
      " 53%|█████▎    | 640/1209 [00:20<00:18, 31.25it/s]"
     ]
    },
    {
     "name": "stdout",
     "output_type": "stream",
     "text": [
      "Processing batch 635\n",
      "Processing batch 636\n",
      "Processing batch 637\n",
      "Processing batch 638\n",
      "Processing batch 639\n",
      "Processing batch 640\n",
      "Processing batch 641\n"
     ]
    },
    {
     "name": "stderr",
     "output_type": "stream",
     "text": [
      " 53%|█████▎    | 644/1209 [00:20<00:18, 30.32it/s]"
     ]
    },
    {
     "name": "stdout",
     "output_type": "stream",
     "text": [
      "Processing batch 642\n",
      "Processing batch 643\n",
      "Processing batch 644\n",
      "Processing batch 645\n",
      "Processing batch 646\n",
      "Processing batch 647\n"
     ]
    },
    {
     "name": "stderr",
     "output_type": "stream",
     "text": [
      " 54%|█████▍    | 652/1209 [00:20<00:18, 30.94it/s]"
     ]
    },
    {
     "name": "stdout",
     "output_type": "stream",
     "text": [
      "Processing batch 648\n",
      "Processing batch 649\n",
      "Processing batch 650\n",
      "Processing batch 651\n",
      "Processing batch 652\n",
      "Processing batch 653\n",
      "Processing batch 654\n"
     ]
    },
    {
     "name": "stderr",
     "output_type": "stream",
     "text": [
      " 55%|█████▍    | 660/1209 [00:21<00:18, 30.25it/s]"
     ]
    },
    {
     "name": "stdout",
     "output_type": "stream",
     "text": [
      "Processing batch 655\n",
      "Processing batch 656\n",
      "Processing batch 657\n",
      "Processing batch 658\n",
      "Processing batch 659\n",
      "Processing batch 660\n",
      "Processing batch 661\n"
     ]
    },
    {
     "name": "stderr",
     "output_type": "stream",
     "text": [
      " 55%|█████▍    | 664/1209 [00:21<00:18, 30.09it/s]"
     ]
    },
    {
     "name": "stdout",
     "output_type": "stream",
     "text": [
      "Processing batch 662\n",
      "Processing batch 663\n",
      "Processing batch 664\n",
      "Processing batch 665\n",
      "Processing batch 666\n",
      "Processing batch 667\n"
     ]
    },
    {
     "name": "stderr",
     "output_type": "stream",
     "text": [
      " 56%|█████▌    | 672/1209 [00:21<00:17, 30.78it/s]"
     ]
    },
    {
     "name": "stdout",
     "output_type": "stream",
     "text": [
      "Processing batch 668\n",
      "Processing batch 669\n",
      "Processing batch 670\n",
      "Processing batch 671\n",
      "Processing batch 672\n",
      "Processing batch 673\n",
      "Processing batch 674\n"
     ]
    },
    {
     "name": "stderr",
     "output_type": "stream",
     "text": [
      " 56%|█████▌    | 680/1209 [00:21<00:17, 30.04it/s]"
     ]
    },
    {
     "name": "stdout",
     "output_type": "stream",
     "text": [
      "Processing batch 675\n",
      "Processing batch 676\n",
      "Processing batch 677\n",
      "Processing batch 678\n",
      "Processing batch 679\n",
      "Processing batch 680\n",
      "Processing batch 681\n"
     ]
    },
    {
     "name": "stderr",
     "output_type": "stream",
     "text": [
      " 57%|█████▋    | 684/1209 [00:21<00:17, 30.35it/s]"
     ]
    },
    {
     "name": "stdout",
     "output_type": "stream",
     "text": [
      "Processing batch 682\n",
      "Processing batch 683\n",
      "Processing batch 684\n",
      "Processing batch 685\n",
      "Processing batch 686\n",
      "Processing batch 687\n"
     ]
    },
    {
     "name": "stderr",
     "output_type": "stream",
     "text": [
      " 57%|█████▋    | 692/1209 [00:22<00:16, 30.97it/s]"
     ]
    },
    {
     "name": "stdout",
     "output_type": "stream",
     "text": [
      "Processing batch 688\n",
      "Processing batch 689\n",
      "Processing batch 690\n",
      "Processing batch 691\n",
      "Processing batch 692\n",
      "Processing batch 693\n",
      "Processing batch 694\n"
     ]
    },
    {
     "name": "stderr",
     "output_type": "stream",
     "text": [
      " 58%|█████▊    | 700/1209 [00:22<00:16, 31.24it/s]"
     ]
    },
    {
     "name": "stdout",
     "output_type": "stream",
     "text": [
      "Processing batch 695\n",
      "Processing batch 696\n",
      "Processing batch 697\n",
      "Processing batch 698\n",
      "Processing batch 699\n",
      "Processing batch 700\n",
      "Processing batch 701\n"
     ]
    },
    {
     "name": "stderr",
     "output_type": "stream",
     "text": [
      " 58%|█████▊    | 704/1209 [00:22<00:16, 31.24it/s]"
     ]
    },
    {
     "name": "stdout",
     "output_type": "stream",
     "text": [
      "Processing batch 702\n",
      "Processing batch 703\n",
      "Processing batch 704\n",
      "Processing batch 705\n",
      "Processing batch 706\n",
      "Processing batch 707\n"
     ]
    },
    {
     "name": "stderr",
     "output_type": "stream",
     "text": [
      " 59%|█████▉    | 712/1209 [00:22<00:15, 31.37it/s]"
     ]
    },
    {
     "name": "stdout",
     "output_type": "stream",
     "text": [
      "Processing batch 708\n",
      "Processing batch 709\n",
      "Processing batch 710\n",
      "Processing batch 711\n",
      "Processing batch 712\n",
      "Processing batch 713\n",
      "Processing batch 714\n"
     ]
    },
    {
     "name": "stderr",
     "output_type": "stream",
     "text": [
      " 60%|█████▉    | 720/1209 [00:23<00:15, 31.57it/s]"
     ]
    },
    {
     "name": "stdout",
     "output_type": "stream",
     "text": [
      "Processing batch 715\n",
      "Processing batch 716\n",
      "Processing batch 717\n",
      "Processing batch 718\n",
      "Processing batch 719\n",
      "Processing batch 720\n",
      "Processing batch 721\n"
     ]
    },
    {
     "name": "stderr",
     "output_type": "stream",
     "text": [
      " 60%|█████▉    | 724/1209 [00:23<00:15, 31.50it/s]"
     ]
    },
    {
     "name": "stdout",
     "output_type": "stream",
     "text": [
      "Processing batch 722\n",
      "Processing batch 723\n",
      "Processing batch 724\n",
      "Processing batch 725\n",
      "Processing batch 726\n",
      "Processing batch 727\n"
     ]
    },
    {
     "name": "stderr",
     "output_type": "stream",
     "text": [
      " 61%|██████    | 732/1209 [00:23<00:15, 31.58it/s]"
     ]
    },
    {
     "name": "stdout",
     "output_type": "stream",
     "text": [
      "Processing batch 728\n",
      "Processing batch 729\n",
      "Processing batch 730\n",
      "Processing batch 731\n",
      "Processing batch 732\n",
      "Processing batch 733\n",
      "Processing batch 734\n"
     ]
    },
    {
     "name": "stderr",
     "output_type": "stream",
     "text": [
      " 61%|██████    | 740/1209 [00:23<00:14, 31.28it/s]"
     ]
    },
    {
     "name": "stdout",
     "output_type": "stream",
     "text": [
      "Processing batch 735\n",
      "Processing batch 736\n",
      "Processing batch 737\n",
      "Processing batch 738\n",
      "Processing batch 739\n",
      "Processing batch 740\n",
      "Processing batch 741\n"
     ]
    },
    {
     "name": "stderr",
     "output_type": "stream",
     "text": [
      " 62%|██████▏   | 744/1209 [00:23<00:14, 31.37it/s]"
     ]
    },
    {
     "name": "stdout",
     "output_type": "stream",
     "text": [
      "Processing batch 742\n",
      "Processing batch 743\n",
      "Processing batch 744\n",
      "Processing batch 745\n",
      "Processing batch 746\n",
      "Processing batch 747\n"
     ]
    },
    {
     "name": "stderr",
     "output_type": "stream",
     "text": [
      " 62%|██████▏   | 752/1209 [00:24<00:15, 30.25it/s]"
     ]
    },
    {
     "name": "stdout",
     "output_type": "stream",
     "text": [
      "Processing batch 748\n",
      "Processing batch 749\n",
      "Processing batch 750\n",
      "Processing batch 751\n",
      "Processing batch 752\n",
      "Processing batch 753\n",
      "Processing batch 754\n"
     ]
    },
    {
     "name": "stderr",
     "output_type": "stream",
     "text": [
      " 63%|██████▎   | 760/1209 [00:24<00:14, 31.00it/s]"
     ]
    },
    {
     "name": "stdout",
     "output_type": "stream",
     "text": [
      "Processing batch 755\n",
      "Processing batch 756\n",
      "Processing batch 757\n",
      "Processing batch 758\n",
      "Processing batch 759\n",
      "Processing batch 760\n",
      "Processing batch 761\n"
     ]
    },
    {
     "name": "stderr",
     "output_type": "stream",
     "text": [
      " 63%|██████▎   | 764/1209 [00:24<00:14, 31.10it/s]"
     ]
    },
    {
     "name": "stdout",
     "output_type": "stream",
     "text": [
      "Processing batch 762\n",
      "Processing batch 763\n",
      "Processing batch 764\n",
      "Processing batch 765\n",
      "Processing batch 766\n",
      "Processing batch 767\n"
     ]
    },
    {
     "name": "stderr",
     "output_type": "stream",
     "text": [
      " 64%|██████▍   | 772/1209 [00:24<00:13, 31.50it/s]"
     ]
    },
    {
     "name": "stdout",
     "output_type": "stream",
     "text": [
      "Processing batch 768\n",
      "Processing batch 769\n",
      "Processing batch 770\n",
      "Processing batch 771\n",
      "Processing batch 772\n",
      "Processing batch 773\n",
      "Processing batch 774\n"
     ]
    },
    {
     "name": "stderr",
     "output_type": "stream",
     "text": [
      " 65%|██████▍   | 780/1209 [00:25<00:13, 31.40it/s]"
     ]
    },
    {
     "name": "stdout",
     "output_type": "stream",
     "text": [
      "Processing batch 775\n",
      "Processing batch 776\n",
      "Processing batch 777\n",
      "Processing batch 778\n",
      "Processing batch 779\n",
      "Processing batch 780\n",
      "Processing batch 781\n"
     ]
    },
    {
     "name": "stderr",
     "output_type": "stream",
     "text": [
      " 65%|██████▍   | 784/1209 [00:25<00:13, 31.35it/s]"
     ]
    },
    {
     "name": "stdout",
     "output_type": "stream",
     "text": [
      "Processing batch 782\n",
      "Processing batch 783\n",
      "Processing batch 784\n",
      "Processing batch 785\n",
      "Processing batch 786\n",
      "Processing batch 787\n"
     ]
    },
    {
     "name": "stderr",
     "output_type": "stream",
     "text": [
      " 66%|██████▌   | 792/1209 [00:25<00:13, 31.53it/s]"
     ]
    },
    {
     "name": "stdout",
     "output_type": "stream",
     "text": [
      "Processing batch 788\n",
      "Processing batch 789\n",
      "Processing batch 790\n",
      "Processing batch 791\n",
      "Processing batch 792\n",
      "Processing batch 793\n",
      "Processing batch 794\n"
     ]
    },
    {
     "name": "stderr",
     "output_type": "stream",
     "text": [
      " 66%|██████▌   | 800/1209 [00:25<00:13, 31.46it/s]"
     ]
    },
    {
     "name": "stdout",
     "output_type": "stream",
     "text": [
      "Processing batch 795\n",
      "Processing batch 796\n",
      "Processing batch 797\n",
      "Processing batch 798\n",
      "Processing batch 799\n",
      "Processing batch 800\n",
      "Processing batch 801\n"
     ]
    },
    {
     "name": "stderr",
     "output_type": "stream",
     "text": [
      " 67%|██████▋   | 804/1209 [00:25<00:12, 31.57it/s]"
     ]
    },
    {
     "name": "stdout",
     "output_type": "stream",
     "text": [
      "Processing batch 802\n",
      "Processing batch 803\n",
      "Processing batch 804\n",
      "Processing batch 805\n",
      "Processing batch 806\n",
      "Processing batch 807\n"
     ]
    },
    {
     "name": "stderr",
     "output_type": "stream",
     "text": [
      " 67%|██████▋   | 812/1209 [00:26<00:12, 31.58it/s]"
     ]
    },
    {
     "name": "stdout",
     "output_type": "stream",
     "text": [
      "Processing batch 808\n",
      "Processing batch 809\n",
      "Processing batch 810\n",
      "Processing batch 811\n",
      "Processing batch 812\n",
      "Processing batch 813\n",
      "Processing batch 814\n"
     ]
    },
    {
     "name": "stderr",
     "output_type": "stream",
     "text": [
      " 68%|██████▊   | 820/1209 [00:26<00:12, 31.81it/s]"
     ]
    },
    {
     "name": "stdout",
     "output_type": "stream",
     "text": [
      "Processing batch 815\n",
      "Processing batch 816\n",
      "Processing batch 817\n",
      "Processing batch 818\n",
      "Processing batch 819\n",
      "Processing batch 820\n",
      "Processing batch 821\n"
     ]
    },
    {
     "name": "stderr",
     "output_type": "stream",
     "text": [
      " 68%|██████▊   | 824/1209 [00:26<00:12, 30.72it/s]"
     ]
    },
    {
     "name": "stdout",
     "output_type": "stream",
     "text": [
      "Processing batch 822\n",
      "Processing batch 823\n",
      "Processing batch 824\n",
      "Processing batch 825\n",
      "Processing batch 826\n",
      "Processing batch 827\n"
     ]
    },
    {
     "name": "stderr",
     "output_type": "stream",
     "text": [
      " 69%|██████▉   | 832/1209 [00:26<00:12, 31.29it/s]"
     ]
    },
    {
     "name": "stdout",
     "output_type": "stream",
     "text": [
      "Processing batch 828\n",
      "Processing batch 829\n",
      "Processing batch 830\n",
      "Processing batch 831\n",
      "Processing batch 832\n",
      "Processing batch 833\n",
      "Processing batch 834\n"
     ]
    },
    {
     "name": "stderr",
     "output_type": "stream",
     "text": [
      " 69%|██████▉   | 840/1209 [00:26<00:11, 31.47it/s]"
     ]
    },
    {
     "name": "stdout",
     "output_type": "stream",
     "text": [
      "Processing batch 835\n",
      "Processing batch 836\n",
      "Processing batch 837\n",
      "Processing batch 838\n",
      "Processing batch 839\n",
      "Processing batch 840\n",
      "Processing batch 841\n"
     ]
    },
    {
     "name": "stderr",
     "output_type": "stream",
     "text": [
      " 70%|██████▉   | 844/1209 [00:27<00:11, 31.54it/s]"
     ]
    },
    {
     "name": "stdout",
     "output_type": "stream",
     "text": [
      "Processing batch 842\n",
      "Processing batch 843\n",
      "Processing batch 844\n",
      "Processing batch 845\n",
      "Processing batch 846\n",
      "Processing batch 847\n"
     ]
    },
    {
     "name": "stderr",
     "output_type": "stream",
     "text": [
      " 70%|███████   | 852/1209 [00:27<00:11, 31.48it/s]"
     ]
    },
    {
     "name": "stdout",
     "output_type": "stream",
     "text": [
      "Processing batch 848\n",
      "Processing batch 849\n",
      "Processing batch 850\n",
      "Processing batch 851\n",
      "Processing batch 852\n",
      "Processing batch 853\n",
      "Processing batch 854\n"
     ]
    },
    {
     "name": "stderr",
     "output_type": "stream",
     "text": [
      " 71%|███████   | 860/1209 [00:27<00:11, 31.49it/s]"
     ]
    },
    {
     "name": "stdout",
     "output_type": "stream",
     "text": [
      "Processing batch 855\n",
      "Processing batch 856\n",
      "Processing batch 857\n",
      "Processing batch 858\n",
      "Processing batch 859\n",
      "Processing batch 860\n",
      "Processing batch 861\n"
     ]
    },
    {
     "name": "stderr",
     "output_type": "stream",
     "text": [
      " 71%|███████▏  | 864/1209 [00:27<00:10, 31.41it/s]"
     ]
    },
    {
     "name": "stdout",
     "output_type": "stream",
     "text": [
      "Processing batch 862\n",
      "Processing batch 863\n",
      "Processing batch 864\n",
      "Processing batch 865\n",
      "Processing batch 866\n",
      "Processing batch 867\n"
     ]
    },
    {
     "name": "stderr",
     "output_type": "stream",
     "text": [
      " 72%|███████▏  | 872/1209 [00:27<00:10, 31.59it/s]"
     ]
    },
    {
     "name": "stdout",
     "output_type": "stream",
     "text": [
      "Processing batch 868\n",
      "Processing batch 869\n",
      "Processing batch 870\n",
      "Processing batch 871\n",
      "Processing batch 872\n",
      "Processing batch 873\n",
      "Processing batch 874\n"
     ]
    },
    {
     "name": "stderr",
     "output_type": "stream",
     "text": [
      " 73%|███████▎  | 880/1209 [00:28<00:10, 31.54it/s]"
     ]
    },
    {
     "name": "stdout",
     "output_type": "stream",
     "text": [
      "Processing batch 875\n",
      "Processing batch 876\n",
      "Processing batch 877\n",
      "Processing batch 878\n",
      "Processing batch 879\n",
      "Processing batch 880\n",
      "Processing batch 881\n"
     ]
    },
    {
     "name": "stderr",
     "output_type": "stream",
     "text": [
      " 73%|███████▎  | 884/1209 [00:28<00:10, 31.48it/s]"
     ]
    },
    {
     "name": "stdout",
     "output_type": "stream",
     "text": [
      "Processing batch 882\n",
      "Processing batch 883\n",
      "Processing batch 884\n",
      "Processing batch 885\n",
      "Processing batch 886\n",
      "Processing batch 887\n"
     ]
    },
    {
     "name": "stderr",
     "output_type": "stream",
     "text": [
      " 74%|███████▍  | 892/1209 [00:28<00:10, 30.87it/s]"
     ]
    },
    {
     "name": "stdout",
     "output_type": "stream",
     "text": [
      "Processing batch 888\n",
      "Processing batch 889\n",
      "Processing batch 890\n",
      "Processing batch 891\n",
      "Processing batch 892\n",
      "Processing batch 893\n"
     ]
    },
    {
     "name": "stderr",
     "output_type": "stream",
     "text": [
      " 74%|███████▍  | 896/1209 [00:28<00:10, 30.37it/s]"
     ]
    },
    {
     "name": "stdout",
     "output_type": "stream",
     "text": [
      "Processing batch 894\n",
      "Processing batch 895\n",
      "Processing batch 896\n",
      "Processing batch 897\n",
      "Processing batch 898\n",
      "Processing batch 899\n"
     ]
    },
    {
     "name": "stderr",
     "output_type": "stream",
     "text": [
      " 75%|███████▍  | 904/1209 [00:29<00:09, 31.05it/s]"
     ]
    },
    {
     "name": "stdout",
     "output_type": "stream",
     "text": [
      "Processing batch 900\n",
      "Processing batch 901\n",
      "Processing batch 902\n",
      "Processing batch 903\n",
      "Processing batch 904\n",
      "Processing batch 905\n",
      "Processing batch 906\n"
     ]
    },
    {
     "name": "stderr",
     "output_type": "stream",
     "text": [
      " 75%|███████▌  | 912/1209 [00:29<00:09, 31.45it/s]"
     ]
    },
    {
     "name": "stdout",
     "output_type": "stream",
     "text": [
      "Processing batch 907\n",
      "Processing batch 908\n",
      "Processing batch 909\n",
      "Processing batch 910\n",
      "Processing batch 911\n",
      "Processing batch 912\n"
     ]
    },
    {
     "name": "stderr",
     "output_type": "stream",
     "text": [
      " 76%|███████▌  | 916/1209 [00:29<00:09, 30.98it/s]"
     ]
    },
    {
     "name": "stdout",
     "output_type": "stream",
     "text": [
      "Processing batch 913\n",
      "Processing batch 914\n",
      "Processing batch 915\n",
      "Processing batch 916\n",
      "Processing batch 917\n",
      "Processing batch 918\n",
      "Processing batch 919\n"
     ]
    },
    {
     "name": "stderr",
     "output_type": "stream",
     "text": [
      " 76%|███████▋  | 924/1209 [00:29<00:09, 30.96it/s]"
     ]
    },
    {
     "name": "stdout",
     "output_type": "stream",
     "text": [
      "Processing batch 920\n",
      "Processing batch 921\n",
      "Processing batch 922\n",
      "Processing batch 923\n",
      "Processing batch 924\n",
      "Processing batch 925\n",
      "Processing batch 926\n"
     ]
    },
    {
     "name": "stderr",
     "output_type": "stream",
     "text": [
      " 77%|███████▋  | 932/1209 [00:29<00:08, 31.50it/s]"
     ]
    },
    {
     "name": "stdout",
     "output_type": "stream",
     "text": [
      "Processing batch 927\n",
      "Processing batch 928\n",
      "Processing batch 929\n",
      "Processing batch 930\n",
      "Processing batch 931\n",
      "Processing batch 932\n",
      "Processing batch 933\n"
     ]
    },
    {
     "name": "stderr",
     "output_type": "stream",
     "text": [
      " 77%|███████▋  | 936/1209 [00:30<00:08, 31.31it/s]"
     ]
    },
    {
     "name": "stdout",
     "output_type": "stream",
     "text": [
      "Processing batch 934\n",
      "Processing batch 935\n",
      "Processing batch 936\n",
      "Processing batch 937\n",
      "Processing batch 938\n",
      "Processing batch 939\n"
     ]
    },
    {
     "name": "stderr",
     "output_type": "stream",
     "text": [
      " 78%|███████▊  | 944/1209 [00:30<00:08, 31.02it/s]"
     ]
    },
    {
     "name": "stdout",
     "output_type": "stream",
     "text": [
      "Processing batch 940\n",
      "Processing batch 941\n",
      "Processing batch 942\n",
      "Processing batch 943\n",
      "Processing batch 944\n",
      "Processing batch 945\n",
      "Processing batch 946\n"
     ]
    },
    {
     "name": "stderr",
     "output_type": "stream",
     "text": [
      " 79%|███████▊  | 952/1209 [00:30<00:08, 31.21it/s]"
     ]
    },
    {
     "name": "stdout",
     "output_type": "stream",
     "text": [
      "Processing batch 947\n",
      "Processing batch 948\n",
      "Processing batch 949\n",
      "Processing batch 950\n",
      "Processing batch 951\n",
      "Processing batch 952\n",
      "Processing batch 953\n"
     ]
    },
    {
     "name": "stderr",
     "output_type": "stream",
     "text": [
      " 79%|███████▉  | 956/1209 [00:30<00:08, 31.32it/s]"
     ]
    },
    {
     "name": "stdout",
     "output_type": "stream",
     "text": [
      "Processing batch 954\n",
      "Processing batch 955\n",
      "Processing batch 956\n",
      "Processing batch 957\n",
      "Processing batch 958\n",
      "Processing batch 959\n"
     ]
    },
    {
     "name": "stderr",
     "output_type": "stream",
     "text": [
      " 80%|███████▉  | 964/1209 [00:30<00:07, 30.93it/s]"
     ]
    },
    {
     "name": "stdout",
     "output_type": "stream",
     "text": [
      "Processing batch 960\n",
      "Processing batch 961\n",
      "Processing batch 962\n",
      "Processing batch 963\n",
      "Processing batch 964\n",
      "Processing batch 965\n",
      "Processing batch 966\n"
     ]
    },
    {
     "name": "stderr",
     "output_type": "stream",
     "text": [
      " 80%|████████  | 972/1209 [00:31<00:07, 31.20it/s]"
     ]
    },
    {
     "name": "stdout",
     "output_type": "stream",
     "text": [
      "Processing batch 967\n",
      "Processing batch 968\n",
      "Processing batch 969\n",
      "Processing batch 970\n",
      "Processing batch 971\n",
      "Processing batch 972\n",
      "Processing batch 973\n"
     ]
    },
    {
     "name": "stderr",
     "output_type": "stream",
     "text": [
      " 81%|████████  | 976/1209 [00:31<00:07, 31.21it/s]"
     ]
    },
    {
     "name": "stdout",
     "output_type": "stream",
     "text": [
      "Processing batch 974\n",
      "Processing batch 975\n",
      "Processing batch 976\n",
      "Processing batch 977\n",
      "Processing batch 978\n",
      "Processing batch 979\n"
     ]
    },
    {
     "name": "stderr",
     "output_type": "stream",
     "text": [
      " 81%|████████▏ | 984/1209 [00:31<00:07, 31.56it/s]"
     ]
    },
    {
     "name": "stdout",
     "output_type": "stream",
     "text": [
      "Processing batch 980\n",
      "Processing batch 981\n",
      "Processing batch 982\n",
      "Processing batch 983\n",
      "Processing batch 984\n",
      "Processing batch 985\n",
      "Processing batch 986\n"
     ]
    },
    {
     "name": "stderr",
     "output_type": "stream",
     "text": [
      " 82%|████████▏ | 992/1209 [00:31<00:06, 31.73it/s]"
     ]
    },
    {
     "name": "stdout",
     "output_type": "stream",
     "text": [
      "Processing batch 987\n",
      "Processing batch 988\n",
      "Processing batch 989\n",
      "Processing batch 990\n",
      "Processing batch 991\n",
      "Processing batch 992\n",
      "Processing batch 993\n"
     ]
    },
    {
     "name": "stderr",
     "output_type": "stream",
     "text": [
      " 82%|████████▏ | 996/1209 [00:31<00:06, 30.84it/s]"
     ]
    },
    {
     "name": "stdout",
     "output_type": "stream",
     "text": [
      "Processing batch 994\n",
      "Processing batch 995\n",
      "Processing batch 996\n",
      "Processing batch 997\n",
      "Processing batch 998\n",
      "Processing batch 999\n"
     ]
    },
    {
     "name": "stderr",
     "output_type": "stream",
     "text": [
      " 83%|████████▎ | 1004/1209 [00:32<00:06, 30.55it/s]"
     ]
    },
    {
     "name": "stdout",
     "output_type": "stream",
     "text": [
      "Processing batch 1000\n",
      "Processing batch 1001\n",
      "Processing batch 1002\n",
      "Processing batch 1003\n",
      "Processing batch 1004\n",
      "Processing batch 1005\n",
      "Processing batch 1006\n"
     ]
    },
    {
     "name": "stderr",
     "output_type": "stream",
     "text": [
      " 84%|████████▎ | 1012/1209 [00:32<00:06, 31.15it/s]"
     ]
    },
    {
     "name": "stdout",
     "output_type": "stream",
     "text": [
      "Processing batch 1007\n",
      "Processing batch 1008\n",
      "Processing batch 1009\n",
      "Processing batch 1010\n",
      "Processing batch 1011\n",
      "Processing batch 1012\n",
      "Processing batch 1013\n"
     ]
    },
    {
     "name": "stderr",
     "output_type": "stream",
     "text": [
      " 84%|████████▍ | 1016/1209 [00:32<00:06, 30.15it/s]"
     ]
    },
    {
     "name": "stdout",
     "output_type": "stream",
     "text": [
      "Processing batch 1014\n",
      "Processing batch 1015\n",
      "Processing batch 1016\n",
      "Processing batch 1017\n",
      "Processing batch 1018\n",
      "Processing batch 1019\n"
     ]
    },
    {
     "name": "stderr",
     "output_type": "stream",
     "text": [
      " 85%|████████▍ | 1024/1209 [00:32<00:05, 31.09it/s]"
     ]
    },
    {
     "name": "stdout",
     "output_type": "stream",
     "text": [
      "Processing batch 1020\n",
      "Processing batch 1021\n",
      "Processing batch 1022\n",
      "Processing batch 1023\n",
      "Processing batch 1024\n",
      "Processing batch 1025\n",
      "Processing batch 1026\n"
     ]
    },
    {
     "name": "stderr",
     "output_type": "stream",
     "text": [
      " 85%|████████▌ | 1032/1209 [00:33<00:05, 31.60it/s]"
     ]
    },
    {
     "name": "stdout",
     "output_type": "stream",
     "text": [
      "Processing batch 1027\n",
      "Processing batch 1028\n",
      "Processing batch 1029\n",
      "Processing batch 1030\n",
      "Processing batch 1031\n",
      "Processing batch 1032\n",
      "Processing batch 1033\n"
     ]
    },
    {
     "name": "stderr",
     "output_type": "stream",
     "text": [
      " 86%|████████▌ | 1036/1209 [00:33<00:05, 31.45it/s]"
     ]
    },
    {
     "name": "stdout",
     "output_type": "stream",
     "text": [
      "Processing batch 1034\n",
      "Processing batch 1035\n",
      "Processing batch 1036\n",
      "Processing batch 1037\n",
      "Processing batch 1038\n",
      "Processing batch 1039\n"
     ]
    },
    {
     "name": "stderr",
     "output_type": "stream",
     "text": [
      " 86%|████████▋ | 1044/1209 [00:33<00:05, 31.64it/s]"
     ]
    },
    {
     "name": "stdout",
     "output_type": "stream",
     "text": [
      "Processing batch 1040\n",
      "Processing batch 1041\n",
      "Processing batch 1042\n",
      "Processing batch 1043\n",
      "Processing batch 1044\n",
      "Processing batch 1045\n",
      "Processing batch 1046\n"
     ]
    },
    {
     "name": "stderr",
     "output_type": "stream",
     "text": [
      " 87%|████████▋ | 1052/1209 [00:33<00:04, 31.53it/s]"
     ]
    },
    {
     "name": "stdout",
     "output_type": "stream",
     "text": [
      "Processing batch 1047\n",
      "Processing batch 1048\n",
      "Processing batch 1049\n",
      "Processing batch 1050\n",
      "Processing batch 1051\n",
      "Processing batch 1052\n",
      "Processing batch 1053\n"
     ]
    },
    {
     "name": "stderr",
     "output_type": "stream",
     "text": [
      " 88%|████████▊ | 1060/1209 [00:33<00:04, 31.87it/s]"
     ]
    },
    {
     "name": "stdout",
     "output_type": "stream",
     "text": [
      "Processing batch 1054\n",
      "Processing batch 1055\n",
      "Processing batch 1056\n",
      "Processing batch 1057\n",
      "Processing batch 1058\n",
      "Processing batch 1059\n"
     ]
    },
    {
     "name": "stderr",
     "output_type": "stream",
     "text": [
      " 88%|████████▊ | 1064/1209 [00:34<00:04, 31.56it/s]"
     ]
    },
    {
     "name": "stdout",
     "output_type": "stream",
     "text": [
      "Processing batch 1060\n",
      "Processing batch 1061\n",
      "Processing batch 1062\n",
      "Processing batch 1063\n",
      "Processing batch 1064\n",
      "Processing batch 1065\n",
      "Processing batch 1066\n"
     ]
    },
    {
     "name": "stderr",
     "output_type": "stream",
     "text": [
      " 89%|████████▊ | 1072/1209 [00:34<00:04, 30.22it/s]"
     ]
    },
    {
     "name": "stdout",
     "output_type": "stream",
     "text": [
      "Processing batch 1067\n",
      "Processing batch 1068\n",
      "Processing batch 1069\n",
      "Processing batch 1070\n",
      "Processing batch 1071\n",
      "Processing batch 1072\n",
      "Processing batch 1073\n"
     ]
    },
    {
     "name": "stderr",
     "output_type": "stream",
     "text": [
      " 89%|████████▉ | 1076/1209 [00:34<00:04, 30.58it/s]"
     ]
    },
    {
     "name": "stdout",
     "output_type": "stream",
     "text": [
      "Processing batch 1074\n",
      "Processing batch 1075\n",
      "Processing batch 1076\n",
      "Processing batch 1077\n",
      "Processing batch 1078\n",
      "Processing batch 1079\n"
     ]
    },
    {
     "name": "stderr",
     "output_type": "stream",
     "text": [
      " 90%|████████▉ | 1084/1209 [00:34<00:04, 31.13it/s]"
     ]
    },
    {
     "name": "stdout",
     "output_type": "stream",
     "text": [
      "Processing batch 1080\n",
      "Processing batch 1081\n",
      "Processing batch 1082\n",
      "Processing batch 1083\n",
      "Processing batch 1084\n",
      "Processing batch 1085\n",
      "Processing batch 1086\n"
     ]
    },
    {
     "name": "stderr",
     "output_type": "stream",
     "text": [
      " 90%|█████████ | 1092/1209 [00:35<00:03, 31.33it/s]"
     ]
    },
    {
     "name": "stdout",
     "output_type": "stream",
     "text": [
      "Processing batch 1087\n",
      "Processing batch 1088\n",
      "Processing batch 1089\n",
      "Processing batch 1090\n",
      "Processing batch 1091\n",
      "Processing batch 1092\n",
      "Processing batch 1093\n"
     ]
    },
    {
     "name": "stderr",
     "output_type": "stream",
     "text": [
      " 91%|█████████ | 1096/1209 [00:35<00:03, 31.45it/s]"
     ]
    },
    {
     "name": "stdout",
     "output_type": "stream",
     "text": [
      "Processing batch 1094\n",
      "Processing batch 1095\n",
      "Processing batch 1096\n",
      "Processing batch 1097\n",
      "Processing batch 1098\n",
      "Processing batch 1099\n"
     ]
    },
    {
     "name": "stderr",
     "output_type": "stream",
     "text": [
      " 91%|█████████▏| 1104/1209 [00:35<00:03, 31.42it/s]"
     ]
    },
    {
     "name": "stdout",
     "output_type": "stream",
     "text": [
      "Processing batch 1100\n",
      "Processing batch 1101\n",
      "Processing batch 1102\n",
      "Processing batch 1103\n",
      "Processing batch 1104\n",
      "Processing batch 1105\n",
      "Processing batch 1106\n"
     ]
    },
    {
     "name": "stderr",
     "output_type": "stream",
     "text": [
      " 92%|█████████▏| 1112/1209 [00:35<00:03, 31.58it/s]"
     ]
    },
    {
     "name": "stdout",
     "output_type": "stream",
     "text": [
      "Processing batch 1107\n",
      "Processing batch 1108\n",
      "Processing batch 1109\n",
      "Processing batch 1110\n",
      "Processing batch 1111\n",
      "Processing batch 1112\n",
      "Processing batch 1113\n"
     ]
    },
    {
     "name": "stderr",
     "output_type": "stream",
     "text": [
      " 92%|█████████▏| 1116/1209 [00:35<00:03, 30.40it/s]"
     ]
    },
    {
     "name": "stdout",
     "output_type": "stream",
     "text": [
      "Processing batch 1114\n",
      "Processing batch 1115\n",
      "Processing batch 1116\n",
      "Processing batch 1117\n",
      "Processing batch 1118\n",
      "Processing batch 1119\n"
     ]
    },
    {
     "name": "stderr",
     "output_type": "stream",
     "text": [
      " 93%|█████████▎| 1124/1209 [00:36<00:02, 30.73it/s]"
     ]
    },
    {
     "name": "stdout",
     "output_type": "stream",
     "text": [
      "Processing batch 1120\n",
      "Processing batch 1121\n",
      "Processing batch 1122\n",
      "Processing batch 1123\n",
      "Processing batch 1124\n",
      "Processing batch 1125\n",
      "Processing batch 1126\n"
     ]
    },
    {
     "name": "stderr",
     "output_type": "stream",
     "text": [
      " 94%|█████████▎| 1132/1209 [00:36<00:02, 29.89it/s]"
     ]
    },
    {
     "name": "stdout",
     "output_type": "stream",
     "text": [
      "Processing batch 1127\n",
      "Processing batch 1128\n",
      "Processing batch 1129\n",
      "Processing batch 1130\n",
      "Processing batch 1131\n",
      "Processing batch 1132\n",
      "Processing batch 1133\n"
     ]
    },
    {
     "name": "stderr",
     "output_type": "stream",
     "text": [
      " 94%|█████████▍| 1139/1209 [00:36<00:02, 30.43it/s]"
     ]
    },
    {
     "name": "stdout",
     "output_type": "stream",
     "text": [
      "Processing batch 1134\n",
      "Processing batch 1135\n",
      "Processing batch 1136\n",
      "Processing batch 1137\n",
      "Processing batch 1138\n",
      "Processing batch 1139\n",
      "Processing batch 1140\n"
     ]
    },
    {
     "name": "stderr",
     "output_type": "stream",
     "text": [
      " 95%|█████████▍| 1143/1209 [00:36<00:02, 30.71it/s]"
     ]
    },
    {
     "name": "stdout",
     "output_type": "stream",
     "text": [
      "Processing batch 1141\n",
      "Processing batch 1142\n",
      "Processing batch 1143\n",
      "Processing batch 1144\n",
      "Processing batch 1145\n",
      "Processing batch 1146\n"
     ]
    },
    {
     "name": "stderr",
     "output_type": "stream",
     "text": [
      " 95%|█████████▌| 1151/1209 [00:36<00:01, 31.10it/s]"
     ]
    },
    {
     "name": "stdout",
     "output_type": "stream",
     "text": [
      "Processing batch 1147\n",
      "Processing batch 1148\n",
      "Processing batch 1149\n",
      "Processing batch 1150\n",
      "Processing batch 1151\n",
      "Processing batch 1152\n",
      "Processing batch 1153\n"
     ]
    },
    {
     "name": "stderr",
     "output_type": "stream",
     "text": [
      " 96%|█████████▌| 1159/1209 [00:37<00:01, 31.26it/s]"
     ]
    },
    {
     "name": "stdout",
     "output_type": "stream",
     "text": [
      "Processing batch 1154\n",
      "Processing batch 1155\n",
      "Processing batch 1156\n",
      "Processing batch 1157\n",
      "Processing batch 1158\n",
      "Processing batch 1159\n",
      "Processing batch 1160\n"
     ]
    },
    {
     "name": "stderr",
     "output_type": "stream",
     "text": [
      " 96%|█████████▌| 1163/1209 [00:37<00:01, 30.42it/s]"
     ]
    },
    {
     "name": "stdout",
     "output_type": "stream",
     "text": [
      "Processing batch 1161\n",
      "Processing batch 1162\n",
      "Processing batch 1163\n",
      "Processing batch 1164\n",
      "Processing batch 1165\n",
      "Processing batch 1166\n"
     ]
    },
    {
     "name": "stderr",
     "output_type": "stream",
     "text": [
      " 97%|█████████▋| 1171/1209 [00:37<00:01, 31.15it/s]"
     ]
    },
    {
     "name": "stdout",
     "output_type": "stream",
     "text": [
      "Processing batch 1167\n",
      "Processing batch 1168\n",
      "Processing batch 1169\n",
      "Processing batch 1170\n",
      "Processing batch 1171\n",
      "Processing batch 1172\n",
      "Processing batch 1173\n"
     ]
    },
    {
     "name": "stderr",
     "output_type": "stream",
     "text": [
      " 98%|█████████▊| 1179/1209 [00:37<00:00, 31.47it/s]"
     ]
    },
    {
     "name": "stdout",
     "output_type": "stream",
     "text": [
      "Processing batch 1174\n",
      "Processing batch 1175\n",
      "Processing batch 1176\n",
      "Processing batch 1177\n",
      "Processing batch 1178\n",
      "Processing batch 1179\n",
      "Processing batch 1180\n"
     ]
    },
    {
     "name": "stderr",
     "output_type": "stream",
     "text": [
      " 98%|█████████▊| 1187/1209 [00:38<00:00, 31.16it/s]"
     ]
    },
    {
     "name": "stdout",
     "output_type": "stream",
     "text": [
      "Processing batch 1181\n",
      "Processing batch 1182\n",
      "Processing batch 1183\n",
      "Processing batch 1184\n",
      "Processing batch 1185\n",
      "Processing batch 1186\n"
     ]
    },
    {
     "name": "stderr",
     "output_type": "stream",
     "text": [
      " 99%|█████████▊| 1191/1209 [00:38<00:00, 31.14it/s]"
     ]
    },
    {
     "name": "stdout",
     "output_type": "stream",
     "text": [
      "Processing batch 1187\n",
      "Processing batch 1188\n",
      "Processing batch 1189\n",
      "Processing batch 1190\n",
      "Processing batch 1191\n",
      "Processing batch 1192\n",
      "Processing batch 1193\n"
     ]
    },
    {
     "name": "stderr",
     "output_type": "stream",
     "text": [
      " 99%|█████████▉| 1199/1209 [00:38<00:00, 30.39it/s]"
     ]
    },
    {
     "name": "stdout",
     "output_type": "stream",
     "text": [
      "Processing batch 1194\n",
      "Processing batch 1195\n",
      "Processing batch 1196\n",
      "Processing batch 1197\n",
      "Processing batch 1198\n",
      "Processing batch 1199\n"
     ]
    },
    {
     "name": "stderr",
     "output_type": "stream",
     "text": [
      "100%|█████████▉| 1203/1209 [00:38<00:00, 30.67it/s]"
     ]
    },
    {
     "name": "stdout",
     "output_type": "stream",
     "text": [
      "Processing batch 1200\n",
      "Processing batch 1201\n",
      "Processing batch 1202\n",
      "Processing batch 1203\n",
      "Processing batch 1204\n",
      "Processing batch 1205\n",
      "Processing batch 1206\n"
     ]
    },
    {
     "name": "stderr",
     "output_type": "stream",
     "text": [
      "100%|██████████| 1209/1209 [00:38<00:00, 31.14it/s]\n"
     ]
    },
    {
     "name": "stdout",
     "output_type": "stream",
     "text": [
      "Processing batch 1207\n",
      "Processing batch 1208\n"
     ]
    }
   ],
   "source": [
    "import numpy as np\n",
    "import pandas as pd\n",
    "from gensim.models import KeyedVectors\n",
    "from tqdm import tqdm\n",
    "\n",
    "#load word2vec model\n",
    "word2vec_model = KeyedVectors.load_word2vec_format('../models/GoogleNews-vectors-negative300.bin.gz', binary=True)\n",
    "sentences = evd_list  \n",
    "\n",
    "# set batch size\n",
    "batch_size = 1000\n",
    "# lower case and split sentences into words\n",
    "preprocessed_sentences = [sentence.lower().split() for sentence in sentences]\n",
    "num_batches = (len(preprocessed_sentences) + batch_size - 1) // batch_size\n",
    "\n",
    "# initialize sentence embeddings\n",
    "sentence_embeddings = []\n",
    "\n",
    "# iterate over batches\n",
    "for i in tqdm(range(num_batches)):\n",
    "    print('Processing batch {}'.format(i))\n",
    "    batch_start = i * batch_size\n",
    "    batch_end = min((i + 1) * batch_size, len(preprocessed_sentences))\n",
    "    batch_sentences = preprocessed_sentences[batch_start:batch_end]\n",
    "\n",
    "    for sentence in batch_sentences:\n",
    "        embeddings = [word2vec_model[word] for word in sentence if word in word2vec_model]\n",
    "        sentence_embedding = np.mean(embeddings, axis=0) if embeddings else np.zeros(300)\n",
    "        sentence_embeddings.append(sentence_embedding)\n",
    "\n",
    "# save sentence embeddings to numpy array\n",
    "np.save('../models/sentence_embeddings.npy', sentence_embeddings)\n"
   ]
  },
  {
   "cell_type": "code",
   "execution_count": 16,
   "metadata": {},
   "outputs": [],
   "source": [
    "sentence_embeddings = np.load('../models/sentence_embeddings.npy')"
   ]
  },
  {
   "cell_type": "code",
   "execution_count": 4,
   "metadata": {},
   "outputs": [
    {
     "name": "stdout",
     "output_type": "stream",
     "text": [
      "1208827\n"
     ]
    }
   ],
   "source": [
    "from langdetect import detect\n",
    "\n",
    "#the length of all the sentences\n",
    "print(len(sentences))\n",
    "\n",
    "def is_english(text):\n",
    "    try:\n",
    "        return detect(text) == 'en'\n",
    "    except:\n",
    "        return False\n",
    "\n",
    "#get all the english sentences and non-english sentences and print the content\n",
    "english_sentences = [sentence for sentence in sentences[0:1000] if is_english(sentence)]\n",
    "non_english_sentences = [sentence for sentence in sentences[0:1000] if not is_english(sentence)]\n",
    "\n",
    "print('English sentences:')\n",
    "print(english_sentences[:10])\n",
    "print('Non-English sentences:')\n",
    "print(non_english_sentences[:10])\n"
   ]
  },
  {
   "cell_type": "code",
   "execution_count": 31,
   "metadata": {},
   "outputs": [
    {
     "name": "stdout",
     "output_type": "stream",
     "text": [
      "Top 10 closest sentences to sentence442946:\n",
      "Index: 317127, Similarity Score: 0.8350666016009113\n",
      "===========================================\n",
      "original sentence: At very high concentrations (100 times atmospheric concentration, or greater), carbon dioxide can be toxic to animal life, so raising the concentration to 10,000 ppm (1%) or higher for several hours will eliminate pests such as whiteflies and spider mites in a greenhouse.\n",
      "Sentence: At current atmospheric pressures photosynthesis shuts down when atmospheric concentrations fall below 150 ppm and 200 ppm although some microbes can extract carbon from the air at much lower concentrations.\n",
      "\n",
      "Index: 478700, Similarity Score: 0.8326456302205477\n",
      "===========================================\n",
      "original sentence: At very high concentrations (100 times atmospheric concentration, or greater), carbon dioxide can be toxic to animal life, so raising the concentration to 10,000 ppm (1%) or higher for several hours will eliminate pests such as whiteflies and spider mites in a greenhouse.\n",
      "Sentence: When Earth first formed, Earth's atmosphere may have contained more greenhouse gases and concentrations may have been higher, with estimated partial pressure as large as , because there was no bacterial photosynthesis to reduce the gas to carbon compounds and oxygen.\n",
      "\n",
      "Index: 69826, Similarity Score: 0.8287137867477037\n",
      "===========================================\n",
      "original sentence: At very high concentrations (100 times atmospheric concentration, or greater), carbon dioxide can be toxic to animal life, so raising the concentration to 10,000 ppm (1%) or higher for several hours will eliminate pests such as whiteflies and spider mites in a greenhouse.\n",
      "Sentence: Bioaccumulation in the plants or the smaller organisms they eat can also lead to poisoning: horses, goats and sheep are exposed in certain areas to potentially toxic concentration of copper and lead in grass.\n",
      "\n",
      "Index: 273498, Similarity Score: 0.8282155715202747\n",
      "===========================================\n",
      "original sentence: At very high concentrations (100 times atmospheric concentration, or greater), carbon dioxide can be toxic to animal life, so raising the concentration to 10,000 ppm (1%) or higher for several hours will eliminate pests such as whiteflies and spider mites in a greenhouse.\n",
      "Sentence: Plants that survive solely on fixation ( plants) tend to thrive in areas where sunlight intensity is moderate, temperatures are moderate, carbon dioxide concentrations are around 200 ppm or higher, and groundwater is plentiful.\n",
      "\n",
      "Index: 1002574, Similarity Score: 0.8246719533156157\n",
      "===========================================\n",
      "original sentence: At very high concentrations (100 times atmospheric concentration, or greater), carbon dioxide can be toxic to animal life, so raising the concentration to 10,000 ppm (1%) or higher for several hours will eliminate pests such as whiteflies and spider mites in a greenhouse.\n",
      "Sentence: It had generally been assumed that this would occur if greenhouse gas concentrations rose above 550 ppm carbon dioxide equivalent by volume.\n",
      "\n",
      "Index: 23957, Similarity Score: 0.8225473505704253\n",
      "===========================================\n",
      "original sentence: At very high concentrations (100 times atmospheric concentration, or greater), carbon dioxide can be toxic to animal life, so raising the concentration to 10,000 ppm (1%) or higher for several hours will eliminate pests such as whiteflies and spider mites in a greenhouse.\n",
      "Sentence: In 1975, V. Ramanathan found that a CFC molecule could be 10,000 times more effective in absorbing infrared radiation than a carbon dioxide molecule, making CFCs potentially important despite their very low concentrations in the atmosphere.\n",
      "\n",
      "Index: 992109, Similarity Score: 0.8225473505704253\n",
      "===========================================\n",
      "original sentence: At very high concentrations (100 times atmospheric concentration, or greater), carbon dioxide can be toxic to animal life, so raising the concentration to 10,000 ppm (1%) or higher for several hours will eliminate pests such as whiteflies and spider mites in a greenhouse.\n",
      "Sentence: In 1975 V. Ramanathan found that a CFC molecule could be 10,000 times more effective in absorbing infrared radiation than a carbon dioxide molecule, making CFCs potentially important despite their very low concentrations in the atmosphere.\n",
      "\n",
      "Index: 404406, Similarity Score: 0.8185086920394145\n",
      "===========================================\n",
      "original sentence: At very high concentrations (100 times atmospheric concentration, or greater), carbon dioxide can be toxic to animal life, so raising the concentration to 10,000 ppm (1%) or higher for several hours will eliminate pests such as whiteflies and spider mites in a greenhouse.\n",
      "Sentence: Organic compounds such as chlorofluorocarbons (CFC’s) have generated an unwanted opening in the ozone layer, which emits higher levels of ultraviolet radiation putting the globe at large threat.\n",
      "\n",
      "Index: 1067438, Similarity Score: 0.8175777449462569\n",
      "===========================================\n",
      "original sentence: At very high concentrations (100 times atmospheric concentration, or greater), carbon dioxide can be toxic to animal life, so raising the concentration to 10,000 ppm (1%) or higher for several hours will eliminate pests such as whiteflies and spider mites in a greenhouse.\n",
      "Sentence: On the contrary, some microbes can deteriorate the environment: which can lead to elevated SO4 in the water and can also increase microbial production of hydrogen sulfide, a toxin for many aquatic plants and organisms.\n",
      "\n",
      "Index: 7907, Similarity Score: 0.8169443129211953\n",
      "===========================================\n",
      "original sentence: At very high concentrations (100 times atmospheric concentration, or greater), carbon dioxide can be toxic to animal life, so raising the concentration to 10,000 ppm (1%) or higher for several hours will eliminate pests such as whiteflies and spider mites in a greenhouse.\n",
      "Sentence: This does not only lead to poisonous chemicals to disperse on water runoff, but also to the emission of nitrous oxide (NO) as a fertilizer byproduct, which is three hundred times more efficient in producing a greenhouse effect than carbon dioxide (CO).\n",
      "\n",
      "Top 10 furthest sentences to sentence442946:\n",
      "Index: 490650, Similarity Score: -0.05799849442664289\n",
      "===========================================\n",
      "original sentence: At very high concentrations (100 times atmospheric concentration, or greater), carbon dioxide can be toxic to animal life, so raising the concentration to 10,000 ppm (1%) or higher for several hours will eliminate pests such as whiteflies and spider mites in a greenhouse.\n",
      "Sentence: 2.\n",
      "\n",
      "Index: 1040996, Similarity Score: -0.05799849442664289\n",
      "===========================================\n",
      "original sentence: At very high concentrations (100 times atmospheric concentration, or greater), carbon dioxide can be toxic to animal life, so raising the concentration to 10,000 ppm (1%) or higher for several hours will eliminate pests such as whiteflies and spider mites in a greenhouse.\n",
      "Sentence: 2.\n",
      "\n",
      "Index: 898135, Similarity Score: -0.05799849442664289\n",
      "===========================================\n",
      "original sentence: At very high concentrations (100 times atmospheric concentration, or greater), carbon dioxide can be toxic to animal life, so raising the concentration to 10,000 ppm (1%) or higher for several hours will eliminate pests such as whiteflies and spider mites in a greenhouse.\n",
      "Sentence: 2.\n",
      "\n",
      "Index: 440756, Similarity Score: -0.05799849442664289\n",
      "===========================================\n",
      "original sentence: At very high concentrations (100 times atmospheric concentration, or greater), carbon dioxide can be toxic to animal life, so raising the concentration to 10,000 ppm (1%) or higher for several hours will eliminate pests such as whiteflies and spider mites in a greenhouse.\n",
      "Sentence: 2.\n",
      "\n",
      "Index: 541006, Similarity Score: -0.05799849442664289\n",
      "===========================================\n",
      "original sentence: At very high concentrations (100 times atmospheric concentration, or greater), carbon dioxide can be toxic to animal life, so raising the concentration to 10,000 ppm (1%) or higher for several hours will eliminate pests such as whiteflies and spider mites in a greenhouse.\n",
      "Sentence: 2.\n",
      "\n",
      "Index: 852522, Similarity Score: -0.05799849442664289\n",
      "===========================================\n",
      "original sentence: At very high concentrations (100 times atmospheric concentration, or greater), carbon dioxide can be toxic to animal life, so raising the concentration to 10,000 ppm (1%) or higher for several hours will eliminate pests such as whiteflies and spider mites in a greenhouse.\n",
      "Sentence: 2.\n",
      "\n",
      "Index: 418130, Similarity Score: -0.05799849442664289\n",
      "===========================================\n",
      "original sentence: At very high concentrations (100 times atmospheric concentration, or greater), carbon dioxide can be toxic to animal life, so raising the concentration to 10,000 ppm (1%) or higher for several hours will eliminate pests such as whiteflies and spider mites in a greenhouse.\n",
      "Sentence: 2.\n",
      "\n",
      "Index: 24269, Similarity Score: -0.05799849442664289\n",
      "===========================================\n",
      "original sentence: At very high concentrations (100 times atmospheric concentration, or greater), carbon dioxide can be toxic to animal life, so raising the concentration to 10,000 ppm (1%) or higher for several hours will eliminate pests such as whiteflies and spider mites in a greenhouse.\n",
      "Sentence: 2.\n",
      "\n",
      "Index: 945372, Similarity Score: -0.12479164215551128\n",
      "===========================================\n",
      "original sentence: At very high concentrations (100 times atmospheric concentration, or greater), carbon dioxide can be toxic to animal life, so raising the concentration to 10,000 ppm (1%) or higher for several hours will eliminate pests such as whiteflies and spider mites in a greenhouse.\n",
      "Sentence: رئيس تحرير جريدة وطني وقت إعادة إصدارها في الثمانينات.\n",
      "\n",
      "Index: 596690, Similarity Score: -0.13438792271679992\n",
      "===========================================\n",
      "original sentence: At very high concentrations (100 times atmospheric concentration, or greater), carbon dioxide can be toxic to animal life, so raising the concentration to 10,000 ppm (1%) or higher for several hours will eliminate pests such as whiteflies and spider mites in a greenhouse.\n",
      "Sentence: analogum (Boreau) Zahn Hieracium laevigatum subsp.\n",
      "\n"
     ]
    }
   ],
   "source": [
    "from sklearn.metrics.pairwise import cosine_similarity\n",
    "# 获取第338219个句子的embedding\n",
    "query_sentence_embedding = sentence_embeddings[442946]\n",
    "\n",
    "# 计算第338219个句子与其他所有句子的余弦相似度\n",
    "similarity_scores = cosine_similarity([query_sentence_embedding], sentence_embeddings)[0]\n",
    "\n",
    "# 获取最相似的前10个句子的索引\n",
    "top10_indices = np.argsort(similarity_scores)[-11:-1][::-1]  # 减去1以排除查询句子本身\n",
    "#最不相似的前10个句子的索引\n",
    "top10_indices2 = np.argsort(similarity_scores)[:10][::-1]  # 减去1以排除查询句子本身\n",
    "\n",
    "print(\"Top 10 closest sentences to sentence\"+str(442946)+\":\")\n",
    "for index in top10_indices:\n",
    "    print(f\"Index: {index}, Similarity Score: {similarity_scores[index]}\")\n",
    "    print(\"===========================================\")\n",
    "    print(f\"original sentence: {evd_list[442946]}\")\n",
    "    print(f\"Sentence: {sentences[index]}\\n\")\n",
    "\n",
    "print(\"Top 10 furthest sentences to sentence\"+str(442946)+\":\")\n",
    "for index in top10_indices2:\n",
    "    print(f\"Index: {index}, Similarity Score: {similarity_scores[index]}\")\n",
    "    print(\"===========================================\")\n",
    "    print(f\"original sentence: {evd_list[442946]}\")\n",
    "    print(f\"Sentence: {sentences[index]}\\n\")\n",
    "\n",
    "\n",
    "\n"
   ]
  }
 ],
 "metadata": {
  "kernelspec": {
   "display_name": ".venv",
   "language": "python",
   "name": "python3"
  },
  "language_info": {
   "codemirror_mode": {
    "name": "ipython",
    "version": 3
   },
   "file_extension": ".py",
   "mimetype": "text/x-python",
   "name": "python",
   "nbconvert_exporter": "python",
   "pygments_lexer": "ipython3",
   "version": "3.8.10"
  },
  "orig_nbformat": 4
 },
 "nbformat": 4,
 "nbformat_minor": 2
}
